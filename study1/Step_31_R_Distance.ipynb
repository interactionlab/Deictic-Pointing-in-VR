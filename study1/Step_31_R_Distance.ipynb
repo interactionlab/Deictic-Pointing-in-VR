{
 "cells": [
  {
   "cell_type": "code",
   "execution_count": 1,
   "metadata": {},
   "outputs": [
    {
     "name": "stderr",
     "output_type": "stream",
     "text": [
      "Registered S3 methods overwritten by 'ggplot2':\n",
      "  method         from \n",
      "  [.quosures     rlang\n",
      "  c.quosures     rlang\n",
      "  print.quosures rlang\n",
      "Registered S3 methods overwritten by 'lme4':\n",
      "  method                          from\n",
      "  cooks.distance.influence.merMod car \n",
      "  influence.merMod                car \n",
      "  dfbeta.influence.merMod         car \n",
      "  dfbetas.influence.merMod        car \n"
     ]
    }
   ],
   "source": [
    "library(ez)"
   ]
  },
  {
   "cell_type": "code",
   "execution_count": 2,
   "metadata": {},
   "outputs": [
    {
     "data": {
      "text/html": [
       "<dl>\n",
       "\t<dt>$ANOVA</dt>\n",
       "\t\t<dd><table>\n",
       "<thead><tr><th></th><th scope=col>Effect</th><th scope=col>DFn</th><th scope=col>DFd</th><th scope=col>F</th><th scope=col>p</th><th scope=col>p&lt;.05</th><th scope=col>ges</th></tr></thead>\n",
       "<tbody>\n",
       "\t<tr><th scope=row>2</th><td>RayCasts    </td><td>3           </td><td>39          </td><td>60.00468    </td><td>1.127029e-14</td><td>*           </td><td>0.7506377   </td></tr>\n",
       "</tbody>\n",
       "</table>\n",
       "</dd>\n",
       "\t<dt>$`Mauchly's Test for Sphericity`</dt>\n",
       "\t\t<dd><table>\n",
       "<thead><tr><th></th><th scope=col>Effect</th><th scope=col>W</th><th scope=col>p</th><th scope=col>p&lt;.05</th></tr></thead>\n",
       "<tbody>\n",
       "\t<tr><th scope=row>2</th><td>RayCasts   </td><td>0.1826579  </td><td>0.001346873</td><td>*          </td></tr>\n",
       "</tbody>\n",
       "</table>\n",
       "</dd>\n",
       "\t<dt>$`Sphericity Corrections`</dt>\n",
       "\t\t<dd><table>\n",
       "<thead><tr><th></th><th scope=col>Effect</th><th scope=col>GGe</th><th scope=col>p[GG]</th><th scope=col>p[GG]&lt;.05</th><th scope=col>HFe</th><th scope=col>p[HF]</th><th scope=col>p[HF]&lt;.05</th></tr></thead>\n",
       "<tbody>\n",
       "\t<tr><th scope=row>2</th><td>RayCasts    </td><td>0.5453196   </td><td>6.259052e-09</td><td>*           </td><td>0.6131452   </td><td>8.62463e-10 </td><td>*           </td></tr>\n",
       "</tbody>\n",
       "</table>\n",
       "</dd>\n",
       "</dl>\n"
      ],
      "text/latex": [
       "\\begin{description}\n",
       "\\item[\\$ANOVA] \\begin{tabular}{r|lllllll}\n",
       "  & Effect & DFn & DFd & F & p & p<.05 & ges\\\\\n",
       "\\hline\n",
       "\t2 & RayCasts     & 3            & 39           & 60.00468     & 1.127029e-14 & *            & 0.7506377   \\\\\n",
       "\\end{tabular}\n",
       "\n",
       "\\item[\\$`Mauchly's Test for Sphericity`] \\begin{tabular}{r|llll}\n",
       "  & Effect & W & p & p<.05\\\\\n",
       "\\hline\n",
       "\t2 & RayCasts    & 0.1826579   & 0.001346873 & *          \\\\\n",
       "\\end{tabular}\n",
       "\n",
       "\\item[\\$`Sphericity Corrections`] \\begin{tabular}{r|lllllll}\n",
       "  & Effect & GGe & p{[}GG{]} & p{[}GG{]}<.05 & HFe & p{[}HF{]} & p{[}HF{]}<.05\\\\\n",
       "\\hline\n",
       "\t2 & RayCasts     & 0.5453196    & 6.259052e-09 & *            & 0.6131452    & 8.62463e-10  & *           \\\\\n",
       "\\end{tabular}\n",
       "\n",
       "\\end{description}\n"
      ],
      "text/markdown": [
       "$ANOVA\n",
       ":   \n",
       "| <!--/--> | Effect | DFn | DFd | F | p | p<.05 | ges | \n",
       "|---|\n",
       "| 2 | RayCasts     | 3            | 39           | 60.00468     | 1.127029e-14 | *            | 0.7506377    | \n",
       "\n",
       "\n",
       "\n",
       "$`Mauchly's Test for Sphericity`\n",
       ":   \n",
       "| <!--/--> | Effect | W | p | p<.05 | \n",
       "|---|\n",
       "| 2 | RayCasts    | 0.1826579   | 0.001346873 | *           | \n",
       "\n",
       "\n",
       "\n",
       "$`Sphericity Corrections`\n",
       ":   \n",
       "| <!--/--> | Effect | GGe | p[GG] | p[GG]<.05 | HFe | p[HF] | p[HF]<.05 | \n",
       "|---|\n",
       "| 2 | RayCasts     | 0.5453196    | 6.259052e-09 | *            | 0.6131452    | 8.62463e-10  | *            | \n",
       "\n",
       "\n",
       "\n",
       "\n",
       "\n"
      ],
      "text/plain": [
       "$ANOVA\n",
       "    Effect DFn DFd        F            p p<.05       ges\n",
       "2 RayCasts   3  39 60.00468 1.127029e-14     * 0.7506377\n",
       "\n",
       "$`Mauchly's Test for Sphericity`\n",
       "    Effect         W           p p<.05\n",
       "2 RayCasts 0.1826579 0.001346873     *\n",
       "\n",
       "$`Sphericity Corrections`\n",
       "    Effect       GGe        p[GG] p[GG]<.05       HFe       p[HF] p[HF]<.05\n",
       "2 RayCasts 0.5453196 6.259052e-09         * 0.6131452 8.62463e-10         *\n"
      ]
     },
     "metadata": {},
     "output_type": "display_data"
    }
   ],
   "source": [
    "df = read.csv('./out/R_Distance_Pointer.csv')\n",
    "df$RayCasts = factor(df$RayCasts)\n",
    "df$PId= factor(df$PId)\n",
    "\n",
    "mod <- ezANOVA (data = df,\n",
    "        dv = DistanceError,\n",
    "        within = .(RayCasts),     \n",
    "        wid = .(PId),\n",
    "        type = 3)#,\n",
    "        #return_aov=T)\n",
    "mod"
   ]
  },
  {
   "cell_type": "code",
   "execution_count": 3,
   "metadata": {},
   "outputs": [
    {
     "data": {
      "text/html": [
       "1.63595873282046"
      ],
      "text/latex": [
       "1.63595873282046"
      ],
      "text/markdown": [
       "1.63595873282046"
      ],
      "text/plain": [
       "[1] 1.635959"
      ]
     },
     "metadata": {},
     "output_type": "display_data"
    },
    {
     "data": {
      "text/html": [
       "21.267463526666"
      ],
      "text/latex": [
       "21.267463526666"
      ],
      "text/markdown": [
       "21.267463526666"
      ],
      "text/plain": [
       "[1] 21.26746"
      ]
     },
     "metadata": {},
     "output_type": "display_data"
    }
   ],
   "source": [
    "mod$'Sphericity Corrections'$GGe*3\n",
    "mod$'Sphericity Corrections'$GGe*39"
   ]
  },
  {
   "cell_type": "code",
   "execution_count": 4,
   "metadata": {},
   "outputs": [
    {
     "data": {
      "text/plain": [
       "\n",
       "\tPairwise comparisons using t tests with non-pooled SD \n",
       "\n",
       "data:  df$DistanceError and df$RayCasts \n",
       "\n",
       "     EFRC    FRC     HRC    \n",
       "FRC  1.1e-10 -       -      \n",
       "HRC  1.8e-06 1.3e-10 -      \n",
       "IFRC 0.00099 0.00348 0.22311\n",
       "\n",
       "P value adjustment method: bonferroni "
      ]
     },
     "metadata": {},
     "output_type": "display_data"
    }
   ],
   "source": [
    "pairwise.t.test(df$DistanceError, df$RayCasts, p.adjust.method = \"bonf\", paired = FALSE, pool.sd = FALSE, alternative = \"two.sided\")"
   ]
  },
  {
   "cell_type": "markdown",
   "metadata": {},
   "source": [
    "# Observer"
   ]
  },
  {
   "cell_type": "code",
   "execution_count": 5,
   "metadata": {},
   "outputs": [],
   "source": [
    "df = read.csv(\"./out/R_Distance_Observer.csv\")\n",
    "df$PId <- factor(df$PId)\n",
    "df$TargetProjectionX <- factor(df$TargetProjectionX)\n",
    "df$TargetProjectionY <- factor(df$TargetProjectionY)\n",
    "df$ObserverDistance <- factor(df$ObserverDistance)"
   ]
  },
  {
   "cell_type": "code",
   "execution_count": 7,
   "metadata": {},
   "outputs": [
    {
     "data": {
      "text/plain": [
       "\n",
       "Error: PId\n",
       "                  Df Sum Sq Mean Sq F value Pr(>F)\n",
       "ObserverDistance   2   32.1   16.06   0.146  0.873\n",
       "TargetProjectionX  8  762.1   95.27   0.866  0.637\n",
       "TargetProjectionY  1    3.2    3.24   0.029  0.880\n",
       "Residuals          2  220.1  110.04               \n",
       "\n",
       "Error: Within\n",
       "                                                       Df Sum Sq Mean Sq\n",
       "ObserverDistance                                        2     24   12.14\n",
       "TargetProjectionX                                      15    607   40.46\n",
       "TargetProjectionY                                       4     53   13.25\n",
       "ObserverDistance:TargetProjectionX                     30     98    3.25\n",
       "ObserverDistance:TargetProjectionY                      8     14    1.80\n",
       "TargetProjectionX:TargetProjectionY                    60    241    4.02\n",
       "ObserverDistance:TargetProjectionX:TargetProjectionY  120    142    1.18\n",
       "Residuals                                            3091   5652    1.83\n",
       "                                                     F value   Pr(>F)    \n",
       "ObserverDistance                                       6.641  0.00132 ** \n",
       "TargetProjectionX                                     22.124  < 2e-16 ***\n",
       "TargetProjectionY                                      7.247 8.33e-06 ***\n",
       "ObserverDistance:TargetProjectionX                     1.779  0.00572 ** \n",
       "ObserverDistance:TargetProjectionY                     0.982  0.44795    \n",
       "TargetProjectionX:TargetProjectionY                    2.201 3.84e-07 ***\n",
       "ObserverDistance:TargetProjectionX:TargetProjectionY   0.646  0.99892    \n",
       "Residuals                                                                \n",
       "---\n",
       "Signif. codes:  0 ‘***’ 0.001 ‘**’ 0.01 ‘*’ 0.05 ‘.’ 0.1 ‘ ’ 1"
      ]
     },
     "metadata": {},
     "output_type": "display_data"
    }
   ],
   "source": [
    "summary(aov(StickError ~ ObserverDistance*TargetProjectionX*TargetProjectionY + Error(PId), data = df))"
   ]
  },
  {
   "cell_type": "code",
   "execution_count": null,
   "metadata": {},
   "outputs": [],
   "source": []
  }
 ],
 "metadata": {
  "kernelspec": {
   "display_name": "R",
   "language": "R",
   "name": "ir"
  },
  "language_info": {
   "codemirror_mode": "r",
   "file_extension": ".r",
   "mimetype": "text/x-r-source",
   "name": "R",
   "pygments_lexer": "r",
   "version": "3.6.0"
  }
 },
 "nbformat": 4,
 "nbformat_minor": 2
}
