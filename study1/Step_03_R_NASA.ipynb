{
 "cells": [
  {
   "cell_type": "code",
   "execution_count": 1,
   "metadata": {},
   "outputs": [
    {
     "name": "stderr",
     "output_type": "stream",
     "text": [
      "Registered S3 methods overwritten by 'ggplot2':\n",
      "  method         from \n",
      "  [.quosures     rlang\n",
      "  c.quosures     rlang\n",
      "  print.quosures rlang\n",
      "Registered S3 methods overwritten by 'lme4':\n",
      "  method                          from\n",
      "  cooks.distance.influence.merMod car \n",
      "  influence.merMod                car \n",
      "  dfbeta.influence.merMod         car \n",
      "  dfbetas.influence.merMod        car \n"
     ]
    }
   ],
   "source": [
    "library(ez)"
   ]
  },
  {
   "cell_type": "code",
   "execution_count": 2,
   "metadata": {},
   "outputs": [
    {
     "data": {
      "text/html": [
       "<dl>\n",
       "\t<dt>$ANOVA</dt>\n",
       "\t\t<dd><table>\n",
       "<thead><tr><th></th><th scope=col>Effect</th><th scope=col>DFn</th><th scope=col>DFd</th><th scope=col>F</th><th scope=col>p</th><th scope=col>p&lt;.05</th><th scope=col>ges</th></tr></thead>\n",
       "<tbody>\n",
       "\t<tr><th scope=row>2</th><td>IsPointer      </td><td>1              </td><td>26             </td><td>0.5954305      </td><td>0.4472838      </td><td>               </td><td>0.019605262    </td></tr>\n",
       "\t<tr><th scope=row>3</th><td>Round          </td><td>2              </td><td>52             </td><td>1.0010398      </td><td>0.3744677      </td><td>               </td><td>0.004858261    </td></tr>\n",
       "\t<tr><th scope=row>4</th><td>IsPointer:Round</td><td>2              </td><td>52             </td><td>0.2570812      </td><td>0.7742824      </td><td>               </td><td>0.001252192    </td></tr>\n",
       "</tbody>\n",
       "</table>\n",
       "</dd>\n",
       "\t<dt>$`Mauchly's Test for Sphericity`</dt>\n",
       "\t\t<dd><table>\n",
       "<thead><tr><th></th><th scope=col>Effect</th><th scope=col>W</th><th scope=col>p</th><th scope=col>p&lt;.05</th></tr></thead>\n",
       "<tbody>\n",
       "\t<tr><th scope=row>3</th><td>Round          </td><td>0.7529688      </td><td>0.02882119     </td><td>*              </td></tr>\n",
       "\t<tr><th scope=row>4</th><td>IsPointer:Round</td><td>0.7529688      </td><td>0.02882119     </td><td>*              </td></tr>\n",
       "</tbody>\n",
       "</table>\n",
       "</dd>\n",
       "\t<dt>$`Sphericity Corrections`</dt>\n",
       "\t\t<dd><table>\n",
       "<thead><tr><th></th><th scope=col>Effect</th><th scope=col>GGe</th><th scope=col>p[GG]</th><th scope=col>p[GG]&lt;.05</th><th scope=col>HFe</th><th scope=col>p[HF]</th><th scope=col>p[HF]&lt;.05</th></tr></thead>\n",
       "<tbody>\n",
       "\t<tr><th scope=row>3</th><td>Round          </td><td>0.8019045      </td><td>0.3604469      </td><td>               </td><td>0.8465019      </td><td>0.3640014      </td><td>               </td></tr>\n",
       "\t<tr><th scope=row>4</th><td>IsPointer:Round</td><td>0.8019045      </td><td>0.7254281      </td><td>               </td><td>0.8465019      </td><td>0.7376003      </td><td>               </td></tr>\n",
       "</tbody>\n",
       "</table>\n",
       "</dd>\n",
       "</dl>\n"
      ],
      "text/latex": [
       "\\begin{description}\n",
       "\\item[\\$ANOVA] \\begin{tabular}{r|lllllll}\n",
       "  & Effect & DFn & DFd & F & p & p<.05 & ges\\\\\n",
       "\\hline\n",
       "\t2 & IsPointer       & 1               & 26              & 0.5954305       & 0.4472838       &                 & 0.019605262    \\\\\n",
       "\t3 & Round           & 2               & 52              & 1.0010398       & 0.3744677       &                 & 0.004858261    \\\\\n",
       "\t4 & IsPointer:Round & 2               & 52              & 0.2570812       & 0.7742824       &                 & 0.001252192    \\\\\n",
       "\\end{tabular}\n",
       "\n",
       "\\item[\\$`Mauchly's Test for Sphericity`] \\begin{tabular}{r|llll}\n",
       "  & Effect & W & p & p<.05\\\\\n",
       "\\hline\n",
       "\t3 & Round           & 0.7529688       & 0.02882119      & *              \\\\\n",
       "\t4 & IsPointer:Round & 0.7529688       & 0.02882119      & *              \\\\\n",
       "\\end{tabular}\n",
       "\n",
       "\\item[\\$`Sphericity Corrections`] \\begin{tabular}{r|lllllll}\n",
       "  & Effect & GGe & p{[}GG{]} & p{[}GG{]}<.05 & HFe & p{[}HF{]} & p{[}HF{]}<.05\\\\\n",
       "\\hline\n",
       "\t3 & Round           & 0.8019045       & 0.3604469       &                 & 0.8465019       & 0.3640014       &                \\\\\n",
       "\t4 & IsPointer:Round & 0.8019045       & 0.7254281       &                 & 0.8465019       & 0.7376003       &                \\\\\n",
       "\\end{tabular}\n",
       "\n",
       "\\end{description}\n"
      ],
      "text/markdown": [
       "$ANOVA\n",
       ":   \n",
       "| <!--/--> | Effect | DFn | DFd | F | p | p<.05 | ges | \n",
       "|---|---|---|\n",
       "| 2 | IsPointer       | 1               | 26              | 0.5954305       | 0.4472838       |                 | 0.019605262     | \n",
       "| 3 | Round           | 2               | 52              | 1.0010398       | 0.3744677       |                 | 0.004858261     | \n",
       "| 4 | IsPointer:Round | 2               | 52              | 0.2570812       | 0.7742824       |                 | 0.001252192     | \n",
       "\n",
       "\n",
       "\n",
       "$`Mauchly's Test for Sphericity`\n",
       ":   \n",
       "| <!--/--> | Effect | W | p | p<.05 | \n",
       "|---|---|\n",
       "| 3 | Round           | 0.7529688       | 0.02882119      | *               | \n",
       "| 4 | IsPointer:Round | 0.7529688       | 0.02882119      | *               | \n",
       "\n",
       "\n",
       "\n",
       "$`Sphericity Corrections`\n",
       ":   \n",
       "| <!--/--> | Effect | GGe | p[GG] | p[GG]<.05 | HFe | p[HF] | p[HF]<.05 | \n",
       "|---|---|\n",
       "| 3 | Round           | 0.8019045       | 0.3604469       |                 | 0.8465019       | 0.3640014       |                 | \n",
       "| 4 | IsPointer:Round | 0.8019045       | 0.7254281       |                 | 0.8465019       | 0.7376003       |                 | \n",
       "\n",
       "\n",
       "\n",
       "\n",
       "\n"
      ],
      "text/plain": [
       "$ANOVA\n",
       "           Effect DFn DFd         F         p p<.05         ges\n",
       "2       IsPointer   1  26 0.5954305 0.4472838       0.019605262\n",
       "3           Round   2  52 1.0010398 0.3744677       0.004858261\n",
       "4 IsPointer:Round   2  52 0.2570812 0.7742824       0.001252192\n",
       "\n",
       "$`Mauchly's Test for Sphericity`\n",
       "           Effect         W          p p<.05\n",
       "3           Round 0.7529688 0.02882119     *\n",
       "4 IsPointer:Round 0.7529688 0.02882119     *\n",
       "\n",
       "$`Sphericity Corrections`\n",
       "           Effect       GGe     p[GG] p[GG]<.05       HFe     p[HF] p[HF]<.05\n",
       "3           Round 0.8019045 0.3604469           0.8465019 0.3640014          \n",
       "4 IsPointer:Round 0.8019045 0.7254281           0.8465019 0.7376003          \n"
      ]
     },
     "metadata": {},
     "output_type": "display_data"
    }
   ],
   "source": [
    "df = read.csv('./out/R_NASA.csv')\n",
    "df$UserId = factor(df$UserId)\n",
    "df$Round = factor(df$Round)\n",
    "df$IsPointer = factor(df$IsPointer)\n",
    "#levels(df$IsPointer)\n",
    "#levels(df$UserId)\n",
    "#levels(df$Round)\n",
    "\n",
    "mod <- ezANOVA (data = df,\n",
    "        dv = Avg,\n",
    "        within = .(Round),  \n",
    "        between =.(IsPointer),\n",
    "        wid = .(UserId),\n",
    "        type = 3)\n",
    "mod"
   ]
  },
  {
   "cell_type": "code",
   "execution_count": 3,
   "metadata": {},
   "outputs": [
    {
     "data": {
      "text/html": [
       "<ol class=list-inline>\n",
       "\t<li>1.6038090570589</li>\n",
       "\t<li>1.6038090570589</li>\n",
       "</ol>\n"
      ],
      "text/latex": [
       "\\begin{enumerate*}\n",
       "\\item 1.6038090570589\n",
       "\\item 1.6038090570589\n",
       "\\end{enumerate*}\n"
      ],
      "text/markdown": [
       "1. 1.6038090570589\n",
       "2. 1.6038090570589\n",
       "\n",
       "\n"
      ],
      "text/plain": [
       "[1] 1.603809 1.603809"
      ]
     },
     "metadata": {},
     "output_type": "display_data"
    },
    {
     "data": {
      "text/html": [
       "<ol class=list-inline>\n",
       "\t<li>41.6990354835313</li>\n",
       "\t<li>41.6990354835313</li>\n",
       "</ol>\n"
      ],
      "text/latex": [
       "\\begin{enumerate*}\n",
       "\\item 41.6990354835313\n",
       "\\item 41.6990354835313\n",
       "\\end{enumerate*}\n"
      ],
      "text/markdown": [
       "1. 41.6990354835313\n",
       "2. 41.6990354835313\n",
       "\n",
       "\n"
      ],
      "text/plain": [
       "[1] 41.69904 41.69904"
      ]
     },
     "metadata": {},
     "output_type": "display_data"
    }
   ],
   "source": [
    "mod$\"Sphericity Corrections\"$GGe  * c(2,2)\n",
    "mod$\"Sphericity Corrections\"$GGe  * c(52,52)"
   ]
  }
 ],
 "metadata": {
  "kernelspec": {
   "display_name": "R",
   "language": "R",
   "name": "ir"
  },
  "language_info": {
   "codemirror_mode": "r",
   "file_extension": ".r",
   "mimetype": "text/x-r-source",
   "name": "R",
   "pygments_lexer": "r",
   "version": "3.6.0"
  }
 },
 "nbformat": 4,
 "nbformat_minor": 4
}
