{
 "cells": [
  {
   "cell_type": "code",
   "execution_count": 1,
   "metadata": {},
   "outputs": [],
   "source": [
    "import os\n",
    "from zipfile import ZipFile\n",
    "import wget"
   ]
  },
  {
   "cell_type": "code",
   "execution_count": 2,
   "metadata": {},
   "outputs": [],
   "source": [
    "if not(os.path.isdir(\"./zip/\")):\n",
    "    os.mkdir(\"zip\")\n",
    "if not(os.path.isdir(\"./data/\")):\n",
    "    os.mkdir(\"data\")\n",
    "if not(os.path.isdir(\"./out/\")):\n",
    "    os.mkdir(\"out\")\n",
    "if not(os.path.isdir(\"./figures/\")):\n",
    "    os.mkdir(\"figures\")"
   ]
  },
  {
   "cell_type": "code",
   "execution_count": 3,
   "metadata": {},
   "outputs": [],
   "source": [
    "urls = [\"https://www.dropbox.com/s/qckaho07z8u5b9g/study1_pair_1.zip?dl=1\",\n",
    "       \"https://www.dropbox.com/s/4d9zjs2of6r5tx7/study1_pair_2.zip?dl=1\",\n",
    "       \"https://www.dropbox.com/s/u6usyjr977582dd/study1_pair_4.zip?dl=1\",\n",
    "       \"https://www.dropbox.com/s/y2o2o5o4zz600x5/study1_pair_5.zip?dl=1\",\n",
    "      \"https://www.dropbox.com/s/o08d5u7zt4uf56z/study1_pair_6.zip?dl=1\",\n",
    "      \"https://www.dropbox.com/s/eh0pk5x1udwq41z/study1_pair_7.zip?dl=1\",\n",
    "      \"https://www.dropbox.com/s/otsnuwuuckayxt2/study1_pair_8.zip?dl=1\",\n",
    "      \"https://www.dropbox.com/s/u2m6pnwzj8s6fwx/study1_pair_9.zip?dl=1\",\n",
    "      \"https://www.dropbox.com/s/azwxe5y77eqhek9/study1_pair_10.zip?dl=1\",\n",
    "      \"https://www.dropbox.com/s/bf042f4bmrtnmlv/study1_pair_11.zip?dl=1\",\n",
    "      \"https://www.dropbox.com/s/4flr0i2bvrboq4b/study1_pair_12.zip?dl=1\",\n",
    "      \"https://www.dropbox.com/s/1hz31ji69ayhw5b/study1_pair_13.zip?dl=1\",\n",
    "      \"https://www.dropbox.com/s/vm0h86cazh1jvx9/study1_pair_14.zip?dl=1\",\n",
    "      \"https://www.dropbox.com/s/chkzn1iefqo8nwv/study1_pair_15.zip?dl=1\"]"
   ]
  },
  {
   "cell_type": "code",
   "execution_count": 4,
   "metadata": {},
   "outputs": [
    {
     "name": "stdout",
     "output_type": "stream",
     "text": [
      "https://www.dropbox.com/s/qckaho07z8u5b9g/study1_pair_1.zip?dl=1 ./zip/study1_pair_1.zip\n",
      "https://www.dropbox.com/s/4d9zjs2of6r5tx7/study1_pair_2.zip?dl=1 ./zip/study1_pair_2.zip\n",
      "https://www.dropbox.com/s/u6usyjr977582dd/study1_pair_4.zip?dl=1 ./zip/study1_pair_4.zip\n",
      "https://www.dropbox.com/s/y2o2o5o4zz600x5/study1_pair_5.zip?dl=1 ./zip/study1_pair_5.zip\n",
      "https://www.dropbox.com/s/o08d5u7zt4uf56z/study1_pair_6.zip?dl=1 ./zip/study1_pair_6.zip\n",
      "https://www.dropbox.com/s/eh0pk5x1udwq41z/study1_pair_7.zip?dl=1 ./zip/study1_pair_7.zip\n",
      "https://www.dropbox.com/s/otsnuwuuckayxt2/study1_pair_8.zip?dl=1 ./zip/study1_pair_8.zip\n",
      "https://www.dropbox.com/s/u2m6pnwzj8s6fwx/study1_pair_9.zip?dl=1 ./zip/study1_pair_9.zip\n",
      "https://www.dropbox.com/s/azwxe5y77eqhek9/study1_pair_10.zip?dl=1 ./zip/study1_pair_10.zip\n",
      "https://www.dropbox.com/s/bf042f4bmrtnmlv/study1_pair_11.zip?dl=1 ./zip/study1_pair_11.zip\n",
      "https://www.dropbox.com/s/4flr0i2bvrboq4b/study1_pair_12.zip?dl=1 ./zip/study1_pair_12.zip\n",
      "Dowloaded ./zip/study1_pair_12.zip\n",
      "https://www.dropbox.com/s/1hz31ji69ayhw5b/study1_pair_13.zip?dl=1 ./zip/study1_pair_13.zip\n",
      "https://www.dropbox.com/s/vm0h86cazh1jvx9/study1_pair_14.zip?dl=1 ./zip/study1_pair_14.zip\n",
      "https://www.dropbox.com/s/chkzn1iefqo8nwv/study1_pair_15.zip?dl=1 ./zip/study1_pair_15.zip\n",
      "CPU times: user 6.64 s, sys: 3.34 s, total: 9.98 s\n",
      "Wall time: 1min 33s\n"
     ]
    }
   ],
   "source": [
    "%%time\n",
    "for url in urls:\n",
    "    file = \"./zip/%s\" % url.split(\"/\")[-1].replace(\"?dl=1\", \"\")\n",
    "    print(url, file)\n",
    "    if (not(os.path.isfile(file))):\n",
    "        print(\"Dowloaded %s\" % wget.download(url, out = \"./zip\"))"
   ]
  },
  {
   "cell_type": "code",
   "execution_count": 5,
   "metadata": {},
   "outputs": [
    {
     "name": "stdout",
     "output_type": "stream",
     "text": [
      "Working on ./zip/study1_pair_1.zip\n",
      "Working on ./zip/study1_pair_2.zip\n",
      "Working on ./zip/study1_pair_4.zip\n",
      "Working on ./zip/study1_pair_5.zip\n",
      "Working on ./zip/study1_pair_6.zip\n",
      "Working on ./zip/study1_pair_7.zip\n",
      "Working on ./zip/study1_pair_8.zip\n",
      "Working on ./zip/study1_pair_9.zip\n",
      "Working on ./zip/study1_pair_10.zip\n",
      "Working on ./zip/study1_pair_11.zip\n",
      "Working on ./zip/study1_pair_12.zip\n",
      "Working on ./zip/study1_pair_13.zip\n",
      "Working on ./zip/study1_pair_14.zip\n",
      "Working on ./zip/study1_pair_15.zip\n",
      "CPU times: user 18.7 s, sys: 13.4 s, total: 32.1 s\n",
      "Wall time: 1min 28s\n"
     ]
    }
   ],
   "source": [
    "%%time\n",
    "for i in range (1, 16):\n",
    "    if i == 3:\n",
    "        continue\n",
    "    filename = \"./zip/study1_pair_%i.zip\" % i\n",
    "    print(\"Working on %s\" % filename)\n",
    "    # Create a ZipFile Object and load sample.zip in it\n",
    "    with ZipFile(filename, 'r') as zipObj:\n",
    "       # Extract all the contents of zip file in different directory\n",
    "       zipObj.extractall()"
   ]
  },
  {
   "cell_type": "code",
   "execution_count": null,
   "metadata": {},
   "outputs": [],
   "source": []
  }
 ],
 "metadata": {
  "kernelspec": {
   "display_name": "Python 3",
   "language": "python",
   "name": "python3"
  },
  "language_info": {
   "codemirror_mode": {
    "name": "ipython",
    "version": 3
   },
   "file_extension": ".py",
   "mimetype": "text/x-python",
   "name": "python",
   "nbconvert_exporter": "python",
   "pygments_lexer": "ipython3",
   "version": "3.6.9"
  }
 },
 "nbformat": 4,
 "nbformat_minor": 4
}
