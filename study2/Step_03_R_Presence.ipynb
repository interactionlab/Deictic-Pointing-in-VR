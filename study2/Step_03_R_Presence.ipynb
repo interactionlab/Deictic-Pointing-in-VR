{
 "cells": [
  {
   "cell_type": "code",
   "execution_count": 1,
   "metadata": {},
   "outputs": [
    {
     "name": "stderr",
     "output_type": "stream",
     "text": [
      "Registered S3 methods overwritten by 'ggplot2':\n",
      "  method         from \n",
      "  [.quosures     rlang\n",
      "  c.quosures     rlang\n",
      "  print.quosures rlang\n",
      "Registered S3 methods overwritten by 'lme4':\n",
      "  method                          from\n",
      "  cooks.distance.influence.merMod car \n",
      "  influence.merMod                car \n",
      "  dfbeta.influence.merMod         car \n",
      "  dfbetas.influence.merMod        car \n"
     ]
    }
   ],
   "source": [
    "library(ez)"
   ]
  },
  {
   "cell_type": "code",
   "execution_count": 2,
   "metadata": {},
   "outputs": [
    {
     "data": {
      "text/html": [
       "<strong>$ANOVA</strong> = <table>\n",
       "<thead><tr><th></th><th scope=col>Effect</th><th scope=col>DFn</th><th scope=col>DFd</th><th scope=col>F</th><th scope=col>p</th><th scope=col>p&lt;.05</th><th scope=col>ges</th></tr></thead>\n",
       "<tbody>\n",
       "\t<tr><th scope=row>2</th><td>IsPointer           </td><td>1                   </td><td>22                  </td><td>12.79302441         </td><td>0.001683215         </td><td>*                   </td><td>0.3344547805        </td></tr>\n",
       "\t<tr><th scope=row>3</th><td>Correction          </td><td>1                   </td><td>22                  </td><td> 1.61408759         </td><td>0.217189992         </td><td>                    </td><td>0.0098657454        </td></tr>\n",
       "\t<tr><th scope=row>4</th><td>IsPointer:Correction</td><td>1                   </td><td>22                  </td><td> 0.07836277         </td><td>0.782143710         </td><td>                    </td><td>0.0004835133        </td></tr>\n",
       "</tbody>\n",
       "</table>\n"
      ],
      "text/latex": [
       "\\textbf{\\$ANOVA} = \\begin{tabular}{r|lllllll}\n",
       "  & Effect & DFn & DFd & F & p & p<.05 & ges\\\\\n",
       "\\hline\n",
       "\t2 & IsPointer            & 1                    & 22                   & 12.79302441          & 0.001683215          & *                    & 0.3344547805        \\\\\n",
       "\t3 & Correction           & 1                    & 22                   &  1.61408759          & 0.217189992          &                      & 0.0098657454        \\\\\n",
       "\t4 & IsPointer:Correction & 1                    & 22                   &  0.07836277          & 0.782143710          &                      & 0.0004835133        \\\\\n",
       "\\end{tabular}\n"
      ],
      "text/markdown": [
       "**$ANOVA** = \n",
       "| <!--/--> | Effect | DFn | DFd | F | p | p<.05 | ges | \n",
       "|---|---|---|\n",
       "| 2 | IsPointer            | 1                    | 22                   | 12.79302441          | 0.001683215          | *                    | 0.3344547805         | \n",
       "| 3 | Correction           | 1                    | 22                   |  1.61408759          | 0.217189992          |                      | 0.0098657454         | \n",
       "| 4 | IsPointer:Correction | 1                    | 22                   |  0.07836277          | 0.782143710          |                      | 0.0004835133         | \n",
       "\n",
       "\n"
      ],
      "text/plain": [
       "$ANOVA\n",
       "                Effect DFn DFd           F           p p<.05          ges\n",
       "2            IsPointer   1  22 12.79302441 0.001683215     * 0.3344547805\n",
       "3           Correction   1  22  1.61408759 0.217189992       0.0098657454\n",
       "4 IsPointer:Correction   1  22  0.07836277 0.782143710       0.0004835133\n"
      ]
     },
     "metadata": {},
     "output_type": "display_data"
    },
    {
     "data": {
      "text/html": [
       "<strong>$ANOVA</strong> = <table>\n",
       "<thead><tr><th></th><th scope=col>Effect</th><th scope=col>DFn</th><th scope=col>DFd</th><th scope=col>F</th><th scope=col>p</th><th scope=col>p&lt;.05</th><th scope=col>ges</th></tr></thead>\n",
       "<tbody>\n",
       "\t<tr><th scope=row>2</th><td>IsPointer           </td><td>1                   </td><td>22                  </td><td>6.4411935           </td><td>0.01874286          </td><td>*                   </td><td>0.212701243         </td></tr>\n",
       "\t<tr><th scope=row>3</th><td>Correction          </td><td>1                   </td><td>22                  </td><td>0.5343490           </td><td>0.47249847          </td><td>                    </td><td>0.001872638         </td></tr>\n",
       "\t<tr><th scope=row>4</th><td>IsPointer:Correction</td><td>1                   </td><td>22                  </td><td>0.3825812           </td><td>0.54257673          </td><td>                    </td><td>0.001341478         </td></tr>\n",
       "</tbody>\n",
       "</table>\n"
      ],
      "text/latex": [
       "\\textbf{\\$ANOVA} = \\begin{tabular}{r|lllllll}\n",
       "  & Effect & DFn & DFd & F & p & p<.05 & ges\\\\\n",
       "\\hline\n",
       "\t2 & IsPointer            & 1                    & 22                   & 6.4411935            & 0.01874286           & *                    & 0.212701243         \\\\\n",
       "\t3 & Correction           & 1                    & 22                   & 0.5343490            & 0.47249847           &                      & 0.001872638         \\\\\n",
       "\t4 & IsPointer:Correction & 1                    & 22                   & 0.3825812            & 0.54257673           &                      & 0.001341478         \\\\\n",
       "\\end{tabular}\n"
      ],
      "text/markdown": [
       "**$ANOVA** = \n",
       "| <!--/--> | Effect | DFn | DFd | F | p | p<.05 | ges | \n",
       "|---|---|---|\n",
       "| 2 | IsPointer            | 1                    | 22                   | 6.4411935            | 0.01874286           | *                    | 0.212701243          | \n",
       "| 3 | Correction           | 1                    | 22                   | 0.5343490            | 0.47249847           |                      | 0.001872638          | \n",
       "| 4 | IsPointer:Correction | 1                    | 22                   | 0.3825812            | 0.54257673           |                      | 0.001341478          | \n",
       "\n",
       "\n"
      ],
      "text/plain": [
       "$ANOVA\n",
       "                Effect DFn DFd         F          p p<.05         ges\n",
       "2            IsPointer   1  22 6.4411935 0.01874286     * 0.212701243\n",
       "3           Correction   1  22 0.5343490 0.47249847       0.001872638\n",
       "4 IsPointer:Correction   1  22 0.3825812 0.54257673       0.001341478\n"
      ]
     },
     "metadata": {},
     "output_type": "display_data"
    }
   ],
   "source": [
    "df = read.csv('./out/R_Presence.csv')\n",
    "\n",
    "\n",
    "df1 = df[df$Task == \"Validation\", ]\n",
    "df1$PId = factor(df1$PId)\n",
    "df1$IsPointer = factor(df1$IsPointer)\n",
    "\n",
    "mod = ezANOVA (data = df1,\n",
    "        dv = Avg,\n",
    "        within = c(Correction),\n",
    "        between = c(IsPointer),\n",
    "        wid = PId,\n",
    "        type = 3)\n",
    "mod\n",
    "\n",
    "df1 = df[df$Task == \"Apple\", ]\n",
    "df1$PId = factor(df1$PId)\n",
    "df1$IsPointer = factor(df1$IsPointer)\n",
    "\n",
    "mod = ezANOVA (data = df1,\n",
    "        dv = Avg,\n",
    "        within = c(Correction),\n",
    "        between = c(IsPointer),\n",
    "        wid = PId,\n",
    "        type = 3)\n",
    "mod"
   ]
  },
  {
   "cell_type": "code",
   "execution_count": 3,
   "metadata": {},
   "outputs": [
    {
     "name": "stderr",
     "output_type": "stream",
     "text": [
      "Warning message:\n",
      "“Collapsing data to cell means. *IF* the requested effects are a subset of the full design, you must use the \"within_full\" argument, else results may be inaccurate.”"
     ]
    },
    {
     "data": {
      "text/html": [
       "<strong>$ANOVA</strong> = <table>\n",
       "<thead><tr><th></th><th scope=col>Effect</th><th scope=col>DFn</th><th scope=col>DFd</th><th scope=col>F</th><th scope=col>p</th><th scope=col>p&lt;.05</th><th scope=col>ges</th></tr></thead>\n",
       "<tbody>\n",
       "\t<tr><th scope=row>2</th><td>IsPointer           </td><td>1                   </td><td>22                  </td><td>11.3837613          </td><td>0.002735898         </td><td>*                   </td><td>0.3270493333        </td></tr>\n",
       "\t<tr><th scope=row>3</th><td>Correction          </td><td>1                   </td><td>22                  </td><td> 0.3584917          </td><td>0.555460600         </td><td>                    </td><td>0.0009894486        </td></tr>\n",
       "\t<tr><th scope=row>4</th><td>IsPointer:Correction</td><td>1                   </td><td>22                  </td><td> 0.4032620          </td><td>0.531959089         </td><td>                    </td><td>0.0011128786        </td></tr>\n",
       "</tbody>\n",
       "</table>\n"
      ],
      "text/latex": [
       "\\textbf{\\$ANOVA} = \\begin{tabular}{r|lllllll}\n",
       "  & Effect & DFn & DFd & F & p & p<.05 & ges\\\\\n",
       "\\hline\n",
       "\t2 & IsPointer            & 1                    & 22                   & 11.3837613           & 0.002735898          & *                    & 0.3270493333        \\\\\n",
       "\t3 & Correction           & 1                    & 22                   &  0.3584917           & 0.555460600          &                      & 0.0009894486        \\\\\n",
       "\t4 & IsPointer:Correction & 1                    & 22                   &  0.4032620           & 0.531959089          &                      & 0.0011128786        \\\\\n",
       "\\end{tabular}\n"
      ],
      "text/markdown": [
       "**$ANOVA** = \n",
       "| <!--/--> | Effect | DFn | DFd | F | p | p<.05 | ges | \n",
       "|---|---|---|\n",
       "| 2 | IsPointer            | 1                    | 22                   | 11.3837613           | 0.002735898          | *                    | 0.3270493333         | \n",
       "| 3 | Correction           | 1                    | 22                   |  0.3584917           | 0.555460600          |                      | 0.0009894486         | \n",
       "| 4 | IsPointer:Correction | 1                    | 22                   |  0.4032620           | 0.531959089          |                      | 0.0011128786         | \n",
       "\n",
       "\n"
      ],
      "text/plain": [
       "$ANOVA\n",
       "                Effect DFn DFd          F           p p<.05          ges\n",
       "2            IsPointer   1  22 11.3837613 0.002735898     * 0.3270493333\n",
       "3           Correction   1  22  0.3584917 0.555460600       0.0009894486\n",
       "4 IsPointer:Correction   1  22  0.4032620 0.531959089       0.0011128786\n"
      ]
     },
     "metadata": {},
     "output_type": "display_data"
    }
   ],
   "source": [
    "df = read.csv('./out/R_Presence.csv')\n",
    "df$PId = factor(df$PId)\n",
    "df$Correction = factor(df$Correction)\n",
    "df$Task = factor(df$Task)\n",
    "df$IsPointer = factor(df$IsPointer)\n",
    "\n",
    "mod = ezANOVA (data = df,\n",
    "        dv = Avg,\n",
    "        within = c(Correction),\n",
    "        between = c(IsPointer),\n",
    "        wid = PId,\n",
    "        type = 3)\n",
    "mod"
   ]
  },
  {
   "cell_type": "code",
   "execution_count": 4,
   "metadata": {},
   "outputs": [
    {
     "data": {
      "text/html": [
       "<strong>$ANOVA</strong> = <table>\n",
       "<thead><tr><th></th><th scope=col>Effect</th><th scope=col>DFn</th><th scope=col>DFd</th><th scope=col>F</th><th scope=col>p</th><th scope=col>p&lt;.05</th><th scope=col>ges</th></tr></thead>\n",
       "<tbody>\n",
       "\t<tr><th scope=row>2</th><td>Correction </td><td>1          </td><td>23         </td><td>1.352941   </td><td>0.2566907  </td><td>           </td><td>0.001642036</td></tr>\n",
       "</tbody>\n",
       "</table>\n"
      ],
      "text/latex": [
       "\\textbf{\\$ANOVA} = \\begin{tabular}{r|lllllll}\n",
       "  & Effect & DFn & DFd & F & p & p<.05 & ges\\\\\n",
       "\\hline\n",
       "\t2 & Correction  & 1           & 23          & 1.352941    & 0.2566907   &             & 0.001642036\\\\\n",
       "\\end{tabular}\n"
      ],
      "text/markdown": [
       "**$ANOVA** = \n",
       "| <!--/--> | Effect | DFn | DFd | F | p | p<.05 | ges | \n",
       "|---|\n",
       "| 2 | Correction  | 1           | 23          | 1.352941    | 0.2566907   |             | 0.001642036 | \n",
       "\n",
       "\n"
      ],
      "text/plain": [
       "$ANOVA\n",
       "      Effect DFn DFd        F         p p<.05         ges\n",
       "2 Correction   1  23 1.352941 0.2566907       0.001642036\n"
      ]
     },
     "metadata": {},
     "output_type": "display_data"
    }
   ],
   "source": [
    "df = read.csv('./out/R_Q16.csv')\n",
    "df$PId = factor(df$PId)\n",
    "df$Correction = factor(df$Correction)\n",
    "df$IsPointer = factor(df$IsPointer)\n",
    "\n",
    "mod = ezANOVA (data = df,\n",
    "        dv = Q16,\n",
    "        within = c(Correction),\n",
    "        #between = c(IsPointer),\n",
    "        wid = PId,\n",
    "        type = 3)\n",
    "mod"
   ]
  },
  {
   "cell_type": "code",
   "execution_count": 5,
   "metadata": {},
   "outputs": [
    {
     "data": {
      "text/html": [
       "<strong>$ANOVA</strong> = <table>\n",
       "<thead><tr><th></th><th scope=col>Effect</th><th scope=col>DFn</th><th scope=col>DFd</th><th scope=col>F</th><th scope=col>p</th><th scope=col>p&lt;.05</th><th scope=col>ges</th></tr></thead>\n",
       "<tbody>\n",
       "\t<tr><th scope=row>2</th><td>Correction  </td><td>1           </td><td>23          </td><td>0.1755725   </td><td>0.6790935   </td><td>            </td><td>0.0009478673</td></tr>\n",
       "</tbody>\n",
       "</table>\n"
      ],
      "text/latex": [
       "\\textbf{\\$ANOVA} = \\begin{tabular}{r|lllllll}\n",
       "  & Effect & DFn & DFd & F & p & p<.05 & ges\\\\\n",
       "\\hline\n",
       "\t2 & Correction   & 1            & 23           & 0.1755725    & 0.6790935    &              & 0.0009478673\\\\\n",
       "\\end{tabular}\n"
      ],
      "text/markdown": [
       "**$ANOVA** = \n",
       "| <!--/--> | Effect | DFn | DFd | F | p | p<.05 | ges | \n",
       "|---|\n",
       "| 2 | Correction   | 1            | 23           | 0.1755725    | 0.6790935    |              | 0.0009478673 | \n",
       "\n",
       "\n"
      ],
      "text/plain": [
       "$ANOVA\n",
       "      Effect DFn DFd         F         p p<.05          ges\n",
       "2 Correction   1  23 0.1755725 0.6790935       0.0009478673\n"
      ]
     },
     "metadata": {},
     "output_type": "display_data"
    }
   ],
   "source": [
    "df = read.csv('./out/R_Q17.csv')\n",
    "df$PId = factor(df$PId)\n",
    "df$Correction = factor(df$Correction)\n",
    "df$IsPointer = factor(df$IsPointer)\n",
    "\n",
    "mod = ezANOVA (data = df,\n",
    "        dv = Q17,\n",
    "        within = c(Correction),\n",
    "        #between = c(IsPointer),\n",
    "        wid = PId,\n",
    "        type = 3)\n",
    "mod"
   ]
  },
  {
   "cell_type": "code",
   "execution_count": 6,
   "metadata": {},
   "outputs": [
    {
     "data": {
      "text/html": [
       "<strong>$ANOVA</strong> = <table>\n",
       "<thead><tr><th></th><th scope=col>Effect</th><th scope=col>DFn</th><th scope=col>DFd</th><th scope=col>F</th><th scope=col>p</th><th scope=col>p&lt;.05</th><th scope=col>ges</th></tr></thead>\n",
       "<tbody>\n",
       "\t<tr><th scope=row>2</th><td>Correction</td><td>1         </td><td>23        </td><td>2.454545  </td><td>0.1308414 </td><td>          </td><td>0.01455003</td></tr>\n",
       "</tbody>\n",
       "</table>\n"
      ],
      "text/latex": [
       "\\textbf{\\$ANOVA} = \\begin{tabular}{r|lllllll}\n",
       "  & Effect & DFn & DFd & F & p & p<.05 & ges\\\\\n",
       "\\hline\n",
       "\t2 & Correction & 1          & 23         & 2.454545   & 0.1308414  &            & 0.01455003\\\\\n",
       "\\end{tabular}\n"
      ],
      "text/markdown": [
       "**$ANOVA** = \n",
       "| <!--/--> | Effect | DFn | DFd | F | p | p<.05 | ges | \n",
       "|---|\n",
       "| 2 | Correction | 1          | 23         | 2.454545   | 0.1308414  |            | 0.01455003 | \n",
       "\n",
       "\n"
      ],
      "text/plain": [
       "$ANOVA\n",
       "      Effect DFn DFd        F         p p<.05        ges\n",
       "2 Correction   1  23 2.454545 0.1308414       0.01455003\n"
      ]
     },
     "metadata": {},
     "output_type": "display_data"
    }
   ],
   "source": [
    "df = read.csv('./out/R_Q18.csv')\n",
    "df$PId = factor(df$PId)\n",
    "df$Correction = factor(df$Correction)\n",
    "df$IsPointer = factor(df$IsPointer)\n",
    "\n",
    "mod = ezANOVA (data = df,\n",
    "        dv = Q18,\n",
    "        within = c(Correction),\n",
    "        #between = c(IsPointer),\n",
    "        wid = PId,\n",
    "        type = 3)\n",
    "mod"
   ]
  }
 ],
 "metadata": {
  "kernelspec": {
   "display_name": "R",
   "language": "R",
   "name": "ir"
  },
  "language_info": {
   "codemirror_mode": "r",
   "file_extension": ".r",
   "mimetype": "text/x-r-source",
   "name": "R",
   "pygments_lexer": "r",
   "version": "3.6.0"
  }
 },
 "nbformat": 4,
 "nbformat_minor": 4
}
