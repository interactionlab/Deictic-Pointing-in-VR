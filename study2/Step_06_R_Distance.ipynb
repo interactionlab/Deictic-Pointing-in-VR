{
 "cells": [
  {
   "cell_type": "code",
   "execution_count": 1,
   "metadata": {},
   "outputs": [
    {
     "name": "stderr",
     "output_type": "stream",
     "text": [
      "Registered S3 methods overwritten by 'ggplot2':\n",
      "  method         from \n",
      "  [.quosures     rlang\n",
      "  c.quosures     rlang\n",
      "  print.quosures rlang\n",
      "Registered S3 methods overwritten by 'lme4':\n",
      "  method                          from\n",
      "  cooks.distance.influence.merMod car \n",
      "  influence.merMod                car \n",
      "  dfbeta.influence.merMod         car \n",
      "  dfbetas.influence.merMod        car \n"
     ]
    }
   ],
   "source": [
    "library(ez)"
   ]
  },
  {
   "cell_type": "code",
   "execution_count": 2,
   "metadata": {},
   "outputs": [
    {
     "data": {
      "text/html": [
       "<dl>\n",
       "\t<dt>$ANOVA</dt>\n",
       "\t\t<dd><table>\n",
       "<thead><tr><th></th><th scope=col>Effect</th><th scope=col>DFn</th><th scope=col>DFd</th><th scope=col>F</th><th scope=col>p</th><th scope=col>p&lt;.05</th><th scope=col>ges</th></tr></thead>\n",
       "<tbody>\n",
       "\t<tr><th scope=row>2</th><td>RayCasts    </td><td>3           </td><td>33          </td><td>79.83349    </td><td>3.284448e-15</td><td>*           </td><td>0.8421266   </td></tr>\n",
       "</tbody>\n",
       "</table>\n",
       "</dd>\n",
       "\t<dt>$`Mauchly's Test for Sphericity`</dt>\n",
       "\t\t<dd><table>\n",
       "<thead><tr><th></th><th scope=col>Effect</th><th scope=col>W</th><th scope=col>p</th><th scope=col>p&lt;.05</th></tr></thead>\n",
       "<tbody>\n",
       "\t<tr><th scope=row>2</th><td>RayCasts    </td><td>0.04091069  </td><td>1.043565e-05</td><td>*           </td></tr>\n",
       "</tbody>\n",
       "</table>\n",
       "</dd>\n",
       "\t<dt>$`Sphericity Corrections`</dt>\n",
       "\t\t<dd><table>\n",
       "<thead><tr><th></th><th scope=col>Effect</th><th scope=col>GGe</th><th scope=col>p[GG]</th><th scope=col>p[GG]&lt;.05</th><th scope=col>HFe</th><th scope=col>p[HF]</th><th scope=col>p[HF]&lt;.05</th></tr></thead>\n",
       "<tbody>\n",
       "\t<tr><th scope=row>2</th><td>RayCasts    </td><td>0.3970274   </td><td>3.156577e-07</td><td>*           </td><td>0.4177486   </td><td>1.668681e-07</td><td>*           </td></tr>\n",
       "</tbody>\n",
       "</table>\n",
       "</dd>\n",
       "</dl>\n"
      ],
      "text/latex": [
       "\\begin{description}\n",
       "\\item[\\$ANOVA] \\begin{tabular}{r|lllllll}\n",
       "  & Effect & DFn & DFd & F & p & p<.05 & ges\\\\\n",
       "\\hline\n",
       "\t2 & RayCasts     & 3            & 33           & 79.83349     & 3.284448e-15 & *            & 0.8421266   \\\\\n",
       "\\end{tabular}\n",
       "\n",
       "\\item[\\$`Mauchly's Test for Sphericity`] \\begin{tabular}{r|llll}\n",
       "  & Effect & W & p & p<.05\\\\\n",
       "\\hline\n",
       "\t2 & RayCasts     & 0.04091069   & 1.043565e-05 & *           \\\\\n",
       "\\end{tabular}\n",
       "\n",
       "\\item[\\$`Sphericity Corrections`] \\begin{tabular}{r|lllllll}\n",
       "  & Effect & GGe & p{[}GG{]} & p{[}GG{]}<.05 & HFe & p{[}HF{]} & p{[}HF{]}<.05\\\\\n",
       "\\hline\n",
       "\t2 & RayCasts     & 0.3970274    & 3.156577e-07 & *            & 0.4177486    & 1.668681e-07 & *           \\\\\n",
       "\\end{tabular}\n",
       "\n",
       "\\end{description}\n"
      ],
      "text/markdown": [
       "$ANOVA\n",
       ":   \n",
       "| <!--/--> | Effect | DFn | DFd | F | p | p<.05 | ges | \n",
       "|---|\n",
       "| 2 | RayCasts     | 3            | 33           | 79.83349     | 3.284448e-15 | *            | 0.8421266    | \n",
       "\n",
       "\n",
       "\n",
       "$`Mauchly's Test for Sphericity`\n",
       ":   \n",
       "| <!--/--> | Effect | W | p | p<.05 | \n",
       "|---|\n",
       "| 2 | RayCasts     | 0.04091069   | 1.043565e-05 | *            | \n",
       "\n",
       "\n",
       "\n",
       "$`Sphericity Corrections`\n",
       ":   \n",
       "| <!--/--> | Effect | GGe | p[GG] | p[GG]<.05 | HFe | p[HF] | p[HF]<.05 | \n",
       "|---|\n",
       "| 2 | RayCasts     | 0.3970274    | 3.156577e-07 | *            | 0.4177486    | 1.668681e-07 | *            | \n",
       "\n",
       "\n",
       "\n",
       "\n",
       "\n"
      ],
      "text/plain": [
       "$ANOVA\n",
       "    Effect DFn DFd        F            p p<.05       ges\n",
       "2 RayCasts   3  33 79.83349 3.284448e-15     * 0.8421266\n",
       "\n",
       "$`Mauchly's Test for Sphericity`\n",
       "    Effect          W            p p<.05\n",
       "2 RayCasts 0.04091069 1.043565e-05     *\n",
       "\n",
       "$`Sphericity Corrections`\n",
       "    Effect       GGe        p[GG] p[GG]<.05       HFe        p[HF] p[HF]<.05\n",
       "2 RayCasts 0.3970274 3.156577e-07         * 0.4177486 1.668681e-07         *\n"
      ]
     },
     "metadata": {},
     "output_type": "display_data"
    }
   ],
   "source": [
    "df = read.csv('./out/R_Distance_Pointer.csv')\n",
    "#df$TargetId = factor(df$TargetId)\n",
    "df$PId = factor(df$PId)\n",
    "df$RayCasts = factor(df$RayCasts)\n",
    "\n",
    "\n",
    "mod <- ezANOVA (data = df,\n",
    "        dv = DistanceError,\n",
    "        within = .(RayCasts),\n",
    "        wid = .(PId),\n",
    "        type = 3)\n",
    "mod"
   ]
  },
  {
   "cell_type": "code",
   "execution_count": 28,
   "metadata": {},
   "outputs": [
    {
     "data": {
      "text/html": [
       "<dl>\n",
       "\t<dt>$ANOVA</dt>\n",
       "\t\t<dd><table>\n",
       "<thead><tr><th></th><th scope=col>Effect</th><th scope=col>DFn</th><th scope=col>DFd</th><th scope=col>F</th><th scope=col>p</th><th scope=col>p&lt;.05</th><th scope=col>ges</th></tr></thead>\n",
       "<tbody>\n",
       "\t<tr><th scope=row>2</th><td>RayCasts    </td><td>3           </td><td>33          </td><td>79.83349    </td><td>3.284448e-15</td><td>*           </td><td>0.8421266   </td></tr>\n",
       "</tbody>\n",
       "</table>\n",
       "</dd>\n",
       "\t<dt>$`Mauchly's Test for Sphericity`</dt>\n",
       "\t\t<dd><table>\n",
       "<thead><tr><th></th><th scope=col>Effect</th><th scope=col>W</th><th scope=col>p</th><th scope=col>p&lt;.05</th></tr></thead>\n",
       "<tbody>\n",
       "\t<tr><th scope=row>2</th><td>RayCasts    </td><td>0.04091069  </td><td>1.043565e-05</td><td>*           </td></tr>\n",
       "</tbody>\n",
       "</table>\n",
       "</dd>\n",
       "\t<dt>$`Sphericity Corrections`</dt>\n",
       "\t\t<dd><table>\n",
       "<thead><tr><th></th><th scope=col>Effect</th><th scope=col>GGe</th><th scope=col>p[GG]</th><th scope=col>p[GG]&lt;.05</th><th scope=col>HFe</th><th scope=col>p[HF]</th><th scope=col>p[HF]&lt;.05</th></tr></thead>\n",
       "<tbody>\n",
       "\t<tr><th scope=row>2</th><td>RayCasts    </td><td>0.3970274   </td><td>3.156577e-07</td><td>*           </td><td>0.4177486   </td><td>1.668681e-07</td><td>*           </td></tr>\n",
       "</tbody>\n",
       "</table>\n",
       "</dd>\n",
       "</dl>\n"
      ],
      "text/latex": [
       "\\begin{description}\n",
       "\\item[\\$ANOVA] \\begin{tabular}{r|lllllll}\n",
       "  & Effect & DFn & DFd & F & p & p<.05 & ges\\\\\n",
       "\\hline\n",
       "\t2 & RayCasts     & 3            & 33           & 79.83349     & 3.284448e-15 & *            & 0.8421266   \\\\\n",
       "\\end{tabular}\n",
       "\n",
       "\\item[\\$`Mauchly's Test for Sphericity`] \\begin{tabular}{r|llll}\n",
       "  & Effect & W & p & p<.05\\\\\n",
       "\\hline\n",
       "\t2 & RayCasts     & 0.04091069   & 1.043565e-05 & *           \\\\\n",
       "\\end{tabular}\n",
       "\n",
       "\\item[\\$`Sphericity Corrections`] \\begin{tabular}{r|lllllll}\n",
       "  & Effect & GGe & p{[}GG{]} & p{[}GG{]}<.05 & HFe & p{[}HF{]} & p{[}HF{]}<.05\\\\\n",
       "\\hline\n",
       "\t2 & RayCasts     & 0.3970274    & 3.156577e-07 & *            & 0.4177486    & 1.668681e-07 & *           \\\\\n",
       "\\end{tabular}\n",
       "\n",
       "\\end{description}\n"
      ],
      "text/markdown": [
       "$ANOVA\n",
       ":   \n",
       "| <!--/--> | Effect | DFn | DFd | F | p | p<.05 | ges | \n",
       "|---|\n",
       "| 2 | RayCasts     | 3            | 33           | 79.83349     | 3.284448e-15 | *            | 0.8421266    | \n",
       "\n",
       "\n",
       "\n",
       "$`Mauchly's Test for Sphericity`\n",
       ":   \n",
       "| <!--/--> | Effect | W | p | p<.05 | \n",
       "|---|\n",
       "| 2 | RayCasts     | 0.04091069   | 1.043565e-05 | *            | \n",
       "\n",
       "\n",
       "\n",
       "$`Sphericity Corrections`\n",
       ":   \n",
       "| <!--/--> | Effect | GGe | p[GG] | p[GG]<.05 | HFe | p[HF] | p[HF]<.05 | \n",
       "|---|\n",
       "| 2 | RayCasts     | 0.3970274    | 3.156577e-07 | *            | 0.4177486    | 1.668681e-07 | *            | \n",
       "\n",
       "\n",
       "\n",
       "\n",
       "\n"
      ],
      "text/plain": [
       "$ANOVA\n",
       "    Effect DFn DFd        F            p p<.05       ges\n",
       "2 RayCasts   3  33 79.83349 3.284448e-15     * 0.8421266\n",
       "\n",
       "$`Mauchly's Test for Sphericity`\n",
       "    Effect          W            p p<.05\n",
       "2 RayCasts 0.04091069 1.043565e-05     *\n",
       "\n",
       "$`Sphericity Corrections`\n",
       "    Effect       GGe        p[GG] p[GG]<.05       HFe        p[HF] p[HF]<.05\n",
       "2 RayCasts 0.3970274 3.156577e-07         * 0.4177486 1.668681e-07         *\n"
      ]
     },
     "metadata": {},
     "output_type": "display_data"
    }
   ],
   "source": [
    "df = read.csv('./out/R_Distance_Pointer.csv')\n",
    "#df$TargetId = factor(df$TargetId)\n",
    "df$PId = factor(df$PId)\n",
    "df$RayCasts = factor(df$RayCasts)\n",
    "\n",
    "\n",
    "mod <- ezANOVA (data = df,\n",
    "        dv = DistanceError,\n",
    "        within = .(RayCasts),\n",
    "        wid = .(PId),\n",
    "        type = 3)\n",
    "mod"
   ]
  },
  {
   "cell_type": "code",
   "execution_count": 3,
   "metadata": {},
   "outputs": [
    {
     "data": {
      "text/plain": [
       "\n",
       "\tPairwise comparisons using t tests with non-pooled SD \n",
       "\n",
       "data:  df$DistanceError and df$RayCasts \n",
       "\n",
       "     EFRC    FRC     HRC \n",
       "FRC  1.3e-06 -       -   \n",
       "HRC  4.1e-08 2.6e-05 -   \n",
       "IFRC 2.5e-06 1.2e-05 0.99\n",
       "\n",
       "P value adjustment method: bonferroni "
      ]
     },
     "metadata": {},
     "output_type": "display_data"
    }
   ],
   "source": [
    "pairwise.t.test(df$DistanceError, df$RayCasts, p.adjust.method = \"bonf\", paired = F, pool.sd = FALSE, alternative = \"two.sided\")"
   ]
  },
  {
   "cell_type": "code",
   "execution_count": 22,
   "metadata": {},
   "outputs": [
    {
     "data": {
      "text/plain": [
       "\n",
       "\tPairwise comparisons using t tests with non-pooled SD \n",
       "\n",
       "data:  df$DistanceError and df$RayCasts \n",
       "\n",
       "     EFRC    FRC     HRC \n",
       "FRC  1.3e-06 -       -   \n",
       "HRC  4.1e-08 2.6e-05 -   \n",
       "IFRC 2.5e-06 1.2e-05 0.99\n",
       "\n",
       "P value adjustment method: bonferroni "
      ]
     },
     "metadata": {},
     "output_type": "display_data"
    }
   ],
   "source": [
    "pairwise.t.test(df$DistanceError, df$RayCasts, p.adjust.method = \"bonf\", paired = F, pool.sd = FALSE, alternative = \"two.sided\")"
   ]
  },
  {
   "cell_type": "code",
   "execution_count": 4,
   "metadata": {},
   "outputs": [
    {
     "data": {
      "text/html": [
       "<strong>$ANOVA</strong> = <table>\n",
       "<thead><tr><th scope=col>Effect</th><th scope=col>DFn</th><th scope=col>DFd</th><th scope=col>F</th><th scope=col>p</th><th scope=col>p&lt;.05</th><th scope=col>ges</th></tr></thead>\n",
       "<tbody>\n",
       "\t<tr><td>RayCasts                                    </td><td> 3                                          </td><td> 33                                         </td><td>79.8334894                                  </td><td>3.284448e-15                                </td><td>*                                           </td><td>0.62660058                                  </td></tr>\n",
       "\t<tr><td>TargetProjectionX                           </td><td> 7                                          </td><td> 77                                         </td><td> 1.0425651                                  </td><td>4.088575e-01                                </td><td>                                            </td><td>0.01388552                                  </td></tr>\n",
       "\t<tr><td>TargetProjectionY                           </td><td> 2                                          </td><td> 22                                         </td><td>21.5886978                                  </td><td>6.480111e-06                                </td><td>*                                           </td><td>0.06024700                                  </td></tr>\n",
       "\t<tr><td>RayCasts:TargetProjectionX                  </td><td>21                                          </td><td>231                                         </td><td> 0.6301449                                  </td><td>8.943348e-01                                </td><td>                                            </td><td>0.01342374                                  </td></tr>\n",
       "\t<tr><td>RayCasts:TargetProjectionY                  </td><td> 6                                          </td><td> 66                                         </td><td> 5.8538411                                  </td><td>6.148133e-05                                </td><td>*                                           </td><td>0.02516501                                  </td></tr>\n",
       "\t<tr><td>TargetProjectionX:TargetProjectionY         </td><td>14                                          </td><td>154                                         </td><td> 1.0095271                                  </td><td>4.466943e-01                                </td><td>                                            </td><td>0.01289862                                  </td></tr>\n",
       "\t<tr><td>RayCasts:TargetProjectionX:TargetProjectionY</td><td>42                                          </td><td>462                                         </td><td> 0.8609132                                  </td><td>7.186817e-01                                </td><td>                                            </td><td>0.01230178                                  </td></tr>\n",
       "</tbody>\n",
       "</table>\n"
      ],
      "text/latex": [
       "\\textbf{\\$ANOVA} = \\begin{tabular}{r|lllllll}\n",
       " Effect & DFn & DFd & F & p & p<.05 & ges\\\\\n",
       "\\hline\n",
       "\t RayCasts                                     &  3                                           &  33                                          & 79.8334894                                   & 3.284448e-15                                 & *                                            & 0.62660058                                  \\\\\n",
       "\t TargetProjectionX                            &  7                                           &  77                                          &  1.0425651                                   & 4.088575e-01                                 &                                              & 0.01388552                                  \\\\\n",
       "\t TargetProjectionY                            &  2                                           &  22                                          & 21.5886978                                   & 6.480111e-06                                 & *                                            & 0.06024700                                  \\\\\n",
       "\t RayCasts:TargetProjectionX                   & 21                                           & 231                                          &  0.6301449                                   & 8.943348e-01                                 &                                              & 0.01342374                                  \\\\\n",
       "\t RayCasts:TargetProjectionY                   &  6                                           &  66                                          &  5.8538411                                   & 6.148133e-05                                 & *                                            & 0.02516501                                  \\\\\n",
       "\t TargetProjectionX:TargetProjectionY          & 14                                           & 154                                          &  1.0095271                                   & 4.466943e-01                                 &                                              & 0.01289862                                  \\\\\n",
       "\t RayCasts:TargetProjectionX:TargetProjectionY & 42                                           & 462                                          &  0.8609132                                   & 7.186817e-01                                 &                                              & 0.01230178                                  \\\\\n",
       "\\end{tabular}\n"
      ],
      "text/markdown": [
       "**$ANOVA** = \n",
       "Effect | DFn | DFd | F | p | p<.05 | ges | \n",
       "|---|---|---|---|---|---|---|\n",
       "| RayCasts                                     |  3                                           |  33                                          | 79.8334894                                   | 3.284448e-15                                 | *                                            | 0.62660058                                   | \n",
       "| TargetProjectionX                            |  7                                           |  77                                          |  1.0425651                                   | 4.088575e-01                                 |                                              | 0.01388552                                   | \n",
       "| TargetProjectionY                            |  2                                           |  22                                          | 21.5886978                                   | 6.480111e-06                                 | *                                            | 0.06024700                                   | \n",
       "| RayCasts:TargetProjectionX                   | 21                                           | 231                                          |  0.6301449                                   | 8.943348e-01                                 |                                              | 0.01342374                                   | \n",
       "| RayCasts:TargetProjectionY                   |  6                                           |  66                                          |  5.8538411                                   | 6.148133e-05                                 | *                                            | 0.02516501                                   | \n",
       "| TargetProjectionX:TargetProjectionY          | 14                                           | 154                                          |  1.0095271                                   | 4.466943e-01                                 |                                              | 0.01289862                                   | \n",
       "| RayCasts:TargetProjectionX:TargetProjectionY | 42                                           | 462                                          |  0.8609132                                   | 7.186817e-01                                 |                                              | 0.01230178                                   | \n",
       "\n",
       "\n"
      ],
      "text/plain": [
       "$ANOVA\n",
       "                                        Effect DFn DFd          F            p\n",
       "1                                     RayCasts   3  33 79.8334894 3.284448e-15\n",
       "2                            TargetProjectionX   7  77  1.0425651 4.088575e-01\n",
       "3                            TargetProjectionY   2  22 21.5886978 6.480111e-06\n",
       "4                   RayCasts:TargetProjectionX  21 231  0.6301449 8.943348e-01\n",
       "5                   RayCasts:TargetProjectionY   6  66  5.8538411 6.148133e-05\n",
       "6          TargetProjectionX:TargetProjectionY  14 154  1.0095271 4.466943e-01\n",
       "7 RayCasts:TargetProjectionX:TargetProjectionY  42 462  0.8609132 7.186817e-01\n",
       "  p<.05        ges\n",
       "1     * 0.62660058\n",
       "2       0.01388552\n",
       "3     * 0.06024700\n",
       "4       0.01342374\n",
       "5     * 0.02516501\n",
       "6       0.01289862\n",
       "7       0.01230178\n"
      ]
     },
     "metadata": {},
     "output_type": "display_data"
    }
   ],
   "source": [
    "df = read.csv('./out/R_Distance_Pointer_Targets.csv')\n",
    "df$TargetProjectionX = factor(df$TargetProjectionX)\n",
    "df$TargetProjectionY = factor(df$TargetProjectionY)\n",
    "df$PId = factor(df$PId)\n",
    "df$RayCasts = factor(df$RayCasts)\n",
    "\n",
    "\n",
    "mod <- ezANOVA (data = df,\n",
    "        dv = DistanceError,\n",
    "        within = .(RayCasts, TargetProjectionX, TargetProjectionY),\n",
    "        wid = .(PId),\n",
    "        type = 1)\n",
    "mod"
   ]
  },
  {
   "cell_type": "code",
   "execution_count": 5,
   "metadata": {},
   "outputs": [
    {
     "data": {
      "text/html": [
       "<dl>\n",
       "\t<dt>$ANOVA</dt>\n",
       "\t\t<dd><table>\n",
       "<thead><tr><th></th><th scope=col>Effect</th><th scope=col>DFn</th><th scope=col>DFd</th><th scope=col>F</th><th scope=col>p</th><th scope=col>p&lt;.05</th><th scope=col>ges</th></tr></thead>\n",
       "<tbody>\n",
       "\t<tr><th scope=row>2</th><td>RayCasts           </td><td>3                  </td><td>33                 </td><td>79.8334894         </td><td>3.284448e-15       </td><td>*                  </td><td>0.825094238        </td></tr>\n",
       "\t<tr><th scope=row>3</th><td>Correction         </td><td>1                  </td><td>11                 </td><td> 0.5285100         </td><td>4.824193e-01       </td><td>                   </td><td>0.002255942        </td></tr>\n",
       "\t<tr><th scope=row>4</th><td>RayCasts:Correction</td><td>3                  </td><td>33                 </td><td> 0.9499311         </td><td>4.277958e-01       </td><td>                   </td><td>0.005887227        </td></tr>\n",
       "</tbody>\n",
       "</table>\n",
       "</dd>\n",
       "\t<dt>$`Mauchly's Test for Sphericity`</dt>\n",
       "\t\t<dd><table>\n",
       "<thead><tr><th></th><th scope=col>Effect</th><th scope=col>W</th><th scope=col>p</th><th scope=col>p&lt;.05</th></tr></thead>\n",
       "<tbody>\n",
       "\t<tr><th scope=row>2</th><td>RayCasts           </td><td>0.04091069         </td><td>1.057194e-05       </td><td>*                  </td></tr>\n",
       "\t<tr><th scope=row>4</th><td>RayCasts:Correction</td><td>0.09431680         </td><td>3.768663e-04       </td><td>*                  </td></tr>\n",
       "</tbody>\n",
       "</table>\n",
       "</dd>\n",
       "\t<dt>$`Sphericity Corrections`</dt>\n",
       "\t\t<dd><table>\n",
       "<thead><tr><th></th><th scope=col>Effect</th><th scope=col>GGe</th><th scope=col>p[GG]</th><th scope=col>p[GG]&lt;.05</th><th scope=col>HFe</th><th scope=col>p[HF]</th><th scope=col>p[HF]&lt;.05</th></tr></thead>\n",
       "<tbody>\n",
       "\t<tr><th scope=row>2</th><td>RayCasts           </td><td>0.3970274          </td><td>3.156577e-07       </td><td>*                  </td><td>0.4177486          </td><td>1.668681e-07       </td><td>*                  </td></tr>\n",
       "\t<tr><th scope=row>4</th><td>RayCasts:Correction</td><td>0.4931078          </td><td>3.808817e-01       </td><td>                   </td><td>0.5514973          </td><td>3.889572e-01       </td><td>                   </td></tr>\n",
       "</tbody>\n",
       "</table>\n",
       "</dd>\n",
       "</dl>\n"
      ],
      "text/latex": [
       "\\begin{description}\n",
       "\\item[\\$ANOVA] \\begin{tabular}{r|lllllll}\n",
       "  & Effect & DFn & DFd & F & p & p<.05 & ges\\\\\n",
       "\\hline\n",
       "\t2 & RayCasts            & 3                   & 33                  & 79.8334894          & 3.284448e-15        & *                   & 0.825094238        \\\\\n",
       "\t3 & Correction          & 1                   & 11                  &  0.5285100          & 4.824193e-01        &                     & 0.002255942        \\\\\n",
       "\t4 & RayCasts:Correction & 3                   & 33                  &  0.9499311          & 4.277958e-01        &                     & 0.005887227        \\\\\n",
       "\\end{tabular}\n",
       "\n",
       "\\item[\\$`Mauchly's Test for Sphericity`] \\begin{tabular}{r|llll}\n",
       "  & Effect & W & p & p<.05\\\\\n",
       "\\hline\n",
       "\t2 & RayCasts            & 0.04091069          & 1.057194e-05        & *                  \\\\\n",
       "\t4 & RayCasts:Correction & 0.09431680          & 3.768663e-04        & *                  \\\\\n",
       "\\end{tabular}\n",
       "\n",
       "\\item[\\$`Sphericity Corrections`] \\begin{tabular}{r|lllllll}\n",
       "  & Effect & GGe & p{[}GG{]} & p{[}GG{]}<.05 & HFe & p{[}HF{]} & p{[}HF{]}<.05\\\\\n",
       "\\hline\n",
       "\t2 & RayCasts            & 0.3970274           & 3.156577e-07        & *                   & 0.4177486           & 1.668681e-07        & *                  \\\\\n",
       "\t4 & RayCasts:Correction & 0.4931078           & 3.808817e-01        &                     & 0.5514973           & 3.889572e-01        &                    \\\\\n",
       "\\end{tabular}\n",
       "\n",
       "\\end{description}\n"
      ],
      "text/markdown": [
       "$ANOVA\n",
       ":   \n",
       "| <!--/--> | Effect | DFn | DFd | F | p | p<.05 | ges | \n",
       "|---|---|---|\n",
       "| 2 | RayCasts            | 3                   | 33                  | 79.8334894          | 3.284448e-15        | *                   | 0.825094238         | \n",
       "| 3 | Correction          | 1                   | 11                  |  0.5285100          | 4.824193e-01        |                     | 0.002255942         | \n",
       "| 4 | RayCasts:Correction | 3                   | 33                  |  0.9499311          | 4.277958e-01        |                     | 0.005887227         | \n",
       "\n",
       "\n",
       "\n",
       "$`Mauchly's Test for Sphericity`\n",
       ":   \n",
       "| <!--/--> | Effect | W | p | p<.05 | \n",
       "|---|---|\n",
       "| 2 | RayCasts            | 0.04091069          | 1.057194e-05        | *                   | \n",
       "| 4 | RayCasts:Correction | 0.09431680          | 3.768663e-04        | *                   | \n",
       "\n",
       "\n",
       "\n",
       "$`Sphericity Corrections`\n",
       ":   \n",
       "| <!--/--> | Effect | GGe | p[GG] | p[GG]<.05 | HFe | p[HF] | p[HF]<.05 | \n",
       "|---|---|\n",
       "| 2 | RayCasts            | 0.3970274           | 3.156577e-07        | *                   | 0.4177486           | 1.668681e-07        | *                   | \n",
       "| 4 | RayCasts:Correction | 0.4931078           | 3.808817e-01        |                     | 0.5514973           | 3.889572e-01        |                     | \n",
       "\n",
       "\n",
       "\n",
       "\n",
       "\n"
      ],
      "text/plain": [
       "$ANOVA\n",
       "               Effect DFn DFd          F            p p<.05         ges\n",
       "2            RayCasts   3  33 79.8334894 3.284448e-15     * 0.825094238\n",
       "3          Correction   1  11  0.5285100 4.824193e-01       0.002255942\n",
       "4 RayCasts:Correction   3  33  0.9499311 4.277958e-01       0.005887227\n",
       "\n",
       "$`Mauchly's Test for Sphericity`\n",
       "               Effect          W            p p<.05\n",
       "2            RayCasts 0.04091069 1.057194e-05     *\n",
       "4 RayCasts:Correction 0.09431680 3.768663e-04     *\n",
       "\n",
       "$`Sphericity Corrections`\n",
       "               Effect       GGe        p[GG] p[GG]<.05       HFe        p[HF]\n",
       "2            RayCasts 0.3970274 3.156577e-07         * 0.4177486 1.668681e-07\n",
       "4 RayCasts:Correction 0.4931078 3.808817e-01           0.5514973 3.889572e-01\n",
       "  p[HF]<.05\n",
       "2         *\n",
       "4          \n"
      ]
     },
     "metadata": {},
     "output_type": "display_data"
    }
   ],
   "source": [
    "df = read.csv('./out/R_Distance_Pointer_Corr.csv')\n",
    "#df$TargetId = factor(df$TargetId)\n",
    "df$PId = factor(df$PId)\n",
    "df$RayCasts = factor(df$RayCasts)\n",
    "df$Correction = factor(df$Correction)\n",
    "\n",
    "\n",
    "mod <- ezANOVA (data = df,\n",
    "        dv = DistanceError,\n",
    "        within = .(RayCasts,Correction),\n",
    "        wid = .(PId),\n",
    "        type = 3)\n",
    "mod"
   ]
  },
  {
   "cell_type": "markdown",
   "metadata": {},
   "source": [
    "# Observer"
   ]
  },
  {
   "cell_type": "code",
   "execution_count": 11,
   "metadata": {},
   "outputs": [
    {
     "data": {
      "text/html": [
       "<dl>\n",
       "\t<dt>$ANOVA</dt>\n",
       "\t\t<dd><table>\n",
       "<thead><tr><th></th><th scope=col>Effect</th><th scope=col>DFn</th><th scope=col>DFd</th><th scope=col>F</th><th scope=col>p</th><th scope=col>p&lt;.05</th><th scope=col>ges</th></tr></thead>\n",
       "<tbody>\n",
       "\t<tr><th scope=row>2</th><td>Correction                 </td><td>1                          </td><td>11                         </td><td>8.2399646                  </td><td>0.01522697                 </td><td>*                          </td><td>0.109972193                </td></tr>\n",
       "\t<tr><th scope=row>3</th><td>ObserverDistance           </td><td>2                          </td><td>22                         </td><td>3.7083365                  </td><td>0.04093741                 </td><td>*                          </td><td>0.045339215                </td></tr>\n",
       "\t<tr><th scope=row>4</th><td>Correction:ObserverDistance</td><td>2                          </td><td>22                         </td><td>0.6954363                  </td><td>0.50949374                 </td><td>                           </td><td>0.008937217                </td></tr>\n",
       "</tbody>\n",
       "</table>\n",
       "</dd>\n",
       "\t<dt>$`Mauchly's Test for Sphericity`</dt>\n",
       "\t\t<dd><table>\n",
       "<thead><tr><th></th><th scope=col>Effect</th><th scope=col>W</th><th scope=col>p</th><th scope=col>p&lt;.05</th></tr></thead>\n",
       "<tbody>\n",
       "\t<tr><th scope=row>3</th><td>ObserverDistance           </td><td>0.7727376                  </td><td>0.27552445                 </td><td>                           </td></tr>\n",
       "\t<tr><th scope=row>4</th><td>Correction:ObserverDistance</td><td>0.4748490                  </td><td>0.02414225                 </td><td>*                          </td></tr>\n",
       "</tbody>\n",
       "</table>\n",
       "</dd>\n",
       "\t<dt>$`Sphericity Corrections`</dt>\n",
       "\t\t<dd><table>\n",
       "<thead><tr><th></th><th scope=col>Effect</th><th scope=col>GGe</th><th scope=col>p[GG]</th><th scope=col>p[GG]&lt;.05</th><th scope=col>HFe</th><th scope=col>p[HF]</th><th scope=col>p[HF]&lt;.05</th></tr></thead>\n",
       "<tbody>\n",
       "\t<tr><th scope=row>3</th><td>ObserverDistance           </td><td>0.8148217                  </td><td>0.05258114                 </td><td>                           </td><td>0.936769                   </td><td>0.04458275                 </td><td>*                          </td></tr>\n",
       "\t<tr><th scope=row>4</th><td>Correction:ObserverDistance</td><td>0.6556728                  </td><td>0.45613798                 </td><td>                           </td><td>0.708878                   </td><td>0.46597098                 </td><td>                           </td></tr>\n",
       "</tbody>\n",
       "</table>\n",
       "</dd>\n",
       "</dl>\n"
      ],
      "text/latex": [
       "\\begin{description}\n",
       "\\item[\\$ANOVA] \\begin{tabular}{r|lllllll}\n",
       "  & Effect & DFn & DFd & F & p & p<.05 & ges\\\\\n",
       "\\hline\n",
       "\t2 & Correction                  & 1                           & 11                          & 8.2399646                   & 0.01522697                  & *                           & 0.109972193                \\\\\n",
       "\t3 & ObserverDistance            & 2                           & 22                          & 3.7083365                   & 0.04093741                  & *                           & 0.045339215                \\\\\n",
       "\t4 & Correction:ObserverDistance & 2                           & 22                          & 0.6954363                   & 0.50949374                  &                             & 0.008937217                \\\\\n",
       "\\end{tabular}\n",
       "\n",
       "\\item[\\$`Mauchly's Test for Sphericity`] \\begin{tabular}{r|llll}\n",
       "  & Effect & W & p & p<.05\\\\\n",
       "\\hline\n",
       "\t3 & ObserverDistance            & 0.7727376                   & 0.27552445                  &                            \\\\\n",
       "\t4 & Correction:ObserverDistance & 0.4748490                   & 0.02414225                  & *                          \\\\\n",
       "\\end{tabular}\n",
       "\n",
       "\\item[\\$`Sphericity Corrections`] \\begin{tabular}{r|lllllll}\n",
       "  & Effect & GGe & p{[}GG{]} & p{[}GG{]}<.05 & HFe & p{[}HF{]} & p{[}HF{]}<.05\\\\\n",
       "\\hline\n",
       "\t3 & ObserverDistance            & 0.8148217                   & 0.05258114                  &                             & 0.936769                    & 0.04458275                  & *                          \\\\\n",
       "\t4 & Correction:ObserverDistance & 0.6556728                   & 0.45613798                  &                             & 0.708878                    & 0.46597098                  &                            \\\\\n",
       "\\end{tabular}\n",
       "\n",
       "\\end{description}\n"
      ],
      "text/markdown": [
       "$ANOVA\n",
       ":   \n",
       "| <!--/--> | Effect | DFn | DFd | F | p | p<.05 | ges | \n",
       "|---|---|---|\n",
       "| 2 | Correction                  | 1                           | 11                          | 8.2399646                   | 0.01522697                  | *                           | 0.109972193                 | \n",
       "| 3 | ObserverDistance            | 2                           | 22                          | 3.7083365                   | 0.04093741                  | *                           | 0.045339215                 | \n",
       "| 4 | Correction:ObserverDistance | 2                           | 22                          | 0.6954363                   | 0.50949374                  |                             | 0.008937217                 | \n",
       "\n",
       "\n",
       "\n",
       "$`Mauchly's Test for Sphericity`\n",
       ":   \n",
       "| <!--/--> | Effect | W | p | p<.05 | \n",
       "|---|---|\n",
       "| 3 | ObserverDistance            | 0.7727376                   | 0.27552445                  |                             | \n",
       "| 4 | Correction:ObserverDistance | 0.4748490                   | 0.02414225                  | *                           | \n",
       "\n",
       "\n",
       "\n",
       "$`Sphericity Corrections`\n",
       ":   \n",
       "| <!--/--> | Effect | GGe | p[GG] | p[GG]<.05 | HFe | p[HF] | p[HF]<.05 | \n",
       "|---|---|\n",
       "| 3 | ObserverDistance            | 0.8148217                   | 0.05258114                  |                             | 0.936769                    | 0.04458275                  | *                           | \n",
       "| 4 | Correction:ObserverDistance | 0.6556728                   | 0.45613798                  |                             | 0.708878                    | 0.46597098                  |                             | \n",
       "\n",
       "\n",
       "\n",
       "\n",
       "\n"
      ],
      "text/plain": [
       "$ANOVA\n",
       "                       Effect DFn DFd         F          p p<.05         ges\n",
       "2                  Correction   1  11 8.2399646 0.01522697     * 0.109972193\n",
       "3            ObserverDistance   2  22 3.7083365 0.04093741     * 0.045339215\n",
       "4 Correction:ObserverDistance   2  22 0.6954363 0.50949374       0.008937217\n",
       "\n",
       "$`Mauchly's Test for Sphericity`\n",
       "                       Effect         W          p p<.05\n",
       "3            ObserverDistance 0.7727376 0.27552445      \n",
       "4 Correction:ObserverDistance 0.4748490 0.02414225     *\n",
       "\n",
       "$`Sphericity Corrections`\n",
       "                       Effect       GGe      p[GG] p[GG]<.05      HFe\n",
       "3            ObserverDistance 0.8148217 0.05258114           0.936769\n",
       "4 Correction:ObserverDistance 0.6556728 0.45613798           0.708878\n",
       "       p[HF] p[HF]<.05\n",
       "3 0.04458275         *\n",
       "4 0.46597098          \n"
      ]
     },
     "metadata": {},
     "output_type": "display_data"
    }
   ],
   "source": [
    "df = read.csv('./out/R_Distance_Observer.csv')\n",
    "df$PId = factor(df$PId)\n",
    "df$ObserverDistance = factor(df$ObserverDistance)\n",
    "df$Correction = factor(df$Correction)\n",
    "\n",
    "\n",
    "mod <- ezANOVA (data = df,\n",
    "        dv = ErrorDistance,\n",
    "        within = .(Correction,ObserverDistance),\n",
    "        wid = .(PId),\n",
    "        type = 3)\n",
    "mod"
   ]
  },
  {
   "cell_type": "code",
   "execution_count": 12,
   "metadata": {},
   "outputs": [
    {
     "data": {
      "text/html": [
       "<ol class=list-inline>\n",
       "\t<li>1.62964330353556</li>\n",
       "\t<li>1.31134559828609</li>\n",
       "</ol>\n"
      ],
      "text/latex": [
       "\\begin{enumerate*}\n",
       "\\item 1.62964330353556\n",
       "\\item 1.31134559828609\n",
       "\\end{enumerate*}\n"
      ],
      "text/markdown": [
       "1. 1.62964330353556\n",
       "2. 1.31134559828609\n",
       "\n",
       "\n"
      ],
      "text/plain": [
       "[1] 1.629643 1.311346"
      ]
     },
     "metadata": {},
     "output_type": "display_data"
    },
    {
     "data": {
      "text/html": [
       "<ol class=list-inline>\n",
       "\t<li>17.9260763388911</li>\n",
       "\t<li>14.4248015811469</li>\n",
       "</ol>\n"
      ],
      "text/latex": [
       "\\begin{enumerate*}\n",
       "\\item 17.9260763388911\n",
       "\\item 14.4248015811469\n",
       "\\end{enumerate*}\n"
      ],
      "text/markdown": [
       "1. 17.9260763388911\n",
       "2. 14.4248015811469\n",
       "\n",
       "\n"
      ],
      "text/plain": [
       "[1] 17.92608 14.42480"
      ]
     },
     "metadata": {},
     "output_type": "display_data"
    }
   ],
   "source": [
    "mod$\"Sphericity Corrections\"$GGe  * c(2,2)\n",
    "mod$\"Sphericity Corrections\"$GGe  * c(22,22)"
   ]
  },
  {
   "cell_type": "code",
   "execution_count": 13,
   "metadata": {},
   "outputs": [
    {
     "data": {
      "text/plain": [
       "\n",
       "\tPairwise comparisons using t tests with non-pooled SD \n",
       "\n",
       "data:  df$ErrorDistance and df$ObserverDistance \n",
       "\n",
       "     0.46 0.83\n",
       "0.83 0.43 -   \n",
       "1.2  0.40 1.00\n",
       "\n",
       "P value adjustment method: bonferroni "
      ]
     },
     "metadata": {},
     "output_type": "display_data"
    }
   ],
   "source": [
    "pairwise.t.test(df$ErrorDistance, df$ObserverDistance, p.adjust.method = \"bonf\", paired = FALSE, pool.sd = FALSE, alternative = \"two.sided\")"
   ]
  }
 ],
 "metadata": {
  "kernelspec": {
   "display_name": "R",
   "language": "R",
   "name": "ir"
  },
  "language_info": {
   "codemirror_mode": "r",
   "file_extension": ".r",
   "mimetype": "text/x-r-source",
   "name": "R",
   "pygments_lexer": "r",
   "version": "3.6.0"
  }
 },
 "nbformat": 4,
 "nbformat_minor": 4
}
