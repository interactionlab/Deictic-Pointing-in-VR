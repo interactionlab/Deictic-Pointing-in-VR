{
 "cells": [
  {
   "cell_type": "code",
   "execution_count": 1,
   "metadata": {},
   "outputs": [],
   "source": [
    "OUTPUT_PATH = \"./out/\""
   ]
  },
  {
   "cell_type": "code",
   "execution_count": 2,
   "metadata": {},
   "outputs": [],
   "source": [
    "%matplotlib inline\n",
    "import numpy as np\n",
    "import pandas as pd\n",
    "import matplotlib.pyplot as plt"
   ]
  },
  {
   "cell_type": "code",
   "execution_count": 3,
   "metadata": {},
   "outputs": [],
   "source": [
    "df = pd.read_csv(\"./data_Questionnaire.csv\")\n",
    "\n",
    "df[\"Avg\"] = df.apply(lambda x: (x.Q1 + x.Q2 + x.Q3 + x.Q4 + x.Q5 + x.Q6+x.Q7+x.Q8+x.Q9+x.Q10+x.Q11+x.Q12+x.Q13+x.Q14-x.Q15)/15, axis= 1)\n",
    "\n",
    "df[\"IsPointer\"] = True\n",
    "df.loc[(df.PId % 2 == 1) , \"IsPointer\"] = False\n",
    "\n",
    "df[\"Task\"] = \"Apple\"\n",
    "df.loc[(df.Round == 1) | (df.Round == 2), \"Task\"] = \"Validation\"\n",
    "df.loc[(df.Round == 3), \"Round\"] = 1\n",
    "df.loc[(df.Round == 4), \"Round\"] = 2\n",
    "\n",
    "df[\"Correction\"] = True\n",
    "df.loc[(df.SId % 2 == 0) & (df.Task == \"Apple\") & (df.Round ==1), \"Correction\"] = False\n",
    "df.loc[(df.SId % 2 != 0) & (df.Task == \"Apple\") & (df.Round ==2), \"Correction\"] = False\n",
    "\n",
    "df.loc[(df.SId % 4 == 1) & (df.Task == \"Validation\") & (df.Round == 2), \"Correction\"] = False\n",
    "df.loc[(df.SId % 4 == 2) & (df.Task == \"Validation\") & (df.Round == 2), \"Correction\"] = False\n",
    "df.loc[(df.SId % 4 == 3) & (df.Task == \"Validation\") & (df.Round == 1), \"Correction\"] = False\n",
    "df.loc[(df.SId % 4 == 0) & (df.Task == \"Validation\") & (df.Round == 1), \"Correction\"] = False"
   ]
  },
  {
   "cell_type": "code",
   "execution_count": 4,
   "metadata": {},
   "outputs": [
    {
     "data": {
      "text/html": [
       "<div>\n",
       "<style scoped>\n",
       "    .dataframe tbody tr th:only-of-type {\n",
       "        vertical-align: middle;\n",
       "    }\n",
       "\n",
       "    .dataframe tbody tr th {\n",
       "        vertical-align: top;\n",
       "    }\n",
       "\n",
       "    .dataframe thead th {\n",
       "        text-align: right;\n",
       "    }\n",
       "</style>\n",
       "<table border=\"1\" class=\"dataframe\">\n",
       "  <thead>\n",
       "    <tr style=\"text-align: right;\">\n",
       "      <th></th>\n",
       "      <th></th>\n",
       "      <th>count</th>\n",
       "      <th>mean</th>\n",
       "      <th>std</th>\n",
       "      <th>min</th>\n",
       "      <th>25%</th>\n",
       "      <th>50%</th>\n",
       "      <th>75%</th>\n",
       "      <th>max</th>\n",
       "    </tr>\n",
       "    <tr>\n",
       "      <th>Task</th>\n",
       "      <th>Round</th>\n",
       "      <th></th>\n",
       "      <th></th>\n",
       "      <th></th>\n",
       "      <th></th>\n",
       "      <th></th>\n",
       "      <th></th>\n",
       "      <th></th>\n",
       "      <th></th>\n",
       "    </tr>\n",
       "  </thead>\n",
       "  <tbody>\n",
       "    <tr>\n",
       "      <th rowspan=\"2\" valign=\"top\">Apple</th>\n",
       "      <th>1</th>\n",
       "      <td>24.0</td>\n",
       "      <td>0.33</td>\n",
       "      <td>0.95</td>\n",
       "      <td>-1.8</td>\n",
       "      <td>-0.10</td>\n",
       "      <td>0.33</td>\n",
       "      <td>1.02</td>\n",
       "      <td>1.87</td>\n",
       "    </tr>\n",
       "    <tr>\n",
       "      <th>2</th>\n",
       "      <td>24.0</td>\n",
       "      <td>0.31</td>\n",
       "      <td>0.97</td>\n",
       "      <td>-2.6</td>\n",
       "      <td>-0.27</td>\n",
       "      <td>0.33</td>\n",
       "      <td>1.15</td>\n",
       "      <td>1.67</td>\n",
       "    </tr>\n",
       "    <tr>\n",
       "      <th rowspan=\"2\" valign=\"top\">Validation</th>\n",
       "      <th>1</th>\n",
       "      <td>24.0</td>\n",
       "      <td>-0.32</td>\n",
       "      <td>1.04</td>\n",
       "      <td>-3.0</td>\n",
       "      <td>-0.85</td>\n",
       "      <td>-0.20</td>\n",
       "      <td>0.38</td>\n",
       "      <td>1.13</td>\n",
       "    </tr>\n",
       "    <tr>\n",
       "      <th>2</th>\n",
       "      <td>24.0</td>\n",
       "      <td>-0.28</td>\n",
       "      <td>1.02</td>\n",
       "      <td>-2.8</td>\n",
       "      <td>-1.00</td>\n",
       "      <td>0.07</td>\n",
       "      <td>0.62</td>\n",
       "      <td>1.00</td>\n",
       "    </tr>\n",
       "  </tbody>\n",
       "</table>\n",
       "</div>"
      ],
      "text/plain": [
       "                  count  mean   std  min   25%   50%   75%   max\n",
       "Task       Round                                                \n",
       "Apple      1       24.0  0.33  0.95 -1.8 -0.10  0.33  1.02  1.87\n",
       "           2       24.0  0.31  0.97 -2.6 -0.27  0.33  1.15  1.67\n",
       "Validation 1       24.0 -0.32  1.04 -3.0 -0.85 -0.20  0.38  1.13\n",
       "           2       24.0 -0.28  1.02 -2.8 -1.00  0.07  0.62  1.00"
      ]
     },
     "execution_count": 4,
     "metadata": {},
     "output_type": "execute_result"
    }
   ],
   "source": [
    "df.groupby([\"Task\",\"Round\"]).describe().Avg.round(2)"
   ]
  },
  {
   "cell_type": "code",
   "execution_count": 5,
   "metadata": {},
   "outputs": [
    {
     "data": {
      "text/html": [
       "<div>\n",
       "<style scoped>\n",
       "    .dataframe tbody tr th:only-of-type {\n",
       "        vertical-align: middle;\n",
       "    }\n",
       "\n",
       "    .dataframe tbody tr th {\n",
       "        vertical-align: top;\n",
       "    }\n",
       "\n",
       "    .dataframe thead th {\n",
       "        text-align: right;\n",
       "    }\n",
       "</style>\n",
       "<table border=\"1\" class=\"dataframe\">\n",
       "  <thead>\n",
       "    <tr style=\"text-align: right;\">\n",
       "      <th></th>\n",
       "      <th>count</th>\n",
       "      <th>mean</th>\n",
       "      <th>std</th>\n",
       "      <th>min</th>\n",
       "      <th>25%</th>\n",
       "      <th>50%</th>\n",
       "      <th>75%</th>\n",
       "      <th>max</th>\n",
       "    </tr>\n",
       "    <tr>\n",
       "      <th>Round</th>\n",
       "      <th></th>\n",
       "      <th></th>\n",
       "      <th></th>\n",
       "      <th></th>\n",
       "      <th></th>\n",
       "      <th></th>\n",
       "      <th></th>\n",
       "      <th></th>\n",
       "    </tr>\n",
       "  </thead>\n",
       "  <tbody>\n",
       "    <tr>\n",
       "      <th>1</th>\n",
       "      <td>48.0</td>\n",
       "      <td>0.00</td>\n",
       "      <td>1.04</td>\n",
       "      <td>-3.0</td>\n",
       "      <td>-0.68</td>\n",
       "      <td>0.03</td>\n",
       "      <td>0.75</td>\n",
       "      <td>1.87</td>\n",
       "    </tr>\n",
       "    <tr>\n",
       "      <th>2</th>\n",
       "      <td>48.0</td>\n",
       "      <td>0.01</td>\n",
       "      <td>1.03</td>\n",
       "      <td>-2.8</td>\n",
       "      <td>-0.55</td>\n",
       "      <td>0.07</td>\n",
       "      <td>0.80</td>\n",
       "      <td>1.67</td>\n",
       "    </tr>\n",
       "  </tbody>\n",
       "</table>\n",
       "</div>"
      ],
      "text/plain": [
       "       count  mean   std  min   25%   50%   75%   max\n",
       "Round                                                \n",
       "1       48.0  0.00  1.04 -3.0 -0.68  0.03  0.75  1.87\n",
       "2       48.0  0.01  1.03 -2.8 -0.55  0.07  0.80  1.67"
      ]
     },
     "execution_count": 5,
     "metadata": {},
     "output_type": "execute_result"
    }
   ],
   "source": [
    "df.groupby(\"Round\").describe().Avg.round(2)"
   ]
  },
  {
   "cell_type": "code",
   "execution_count": 6,
   "metadata": {},
   "outputs": [
    {
     "data": {
      "text/plain": [
       "Task        IsPointer\n",
       "Apple       False       -0.11\n",
       "            True         0.76\n",
       "Validation  False       -0.89\n",
       "            True         0.28\n",
       "Name: Avg, dtype: float64"
      ]
     },
     "execution_count": 6,
     "metadata": {},
     "output_type": "execute_result"
    }
   ],
   "source": [
    "df.groupby([\"Task\", \"IsPointer\"]).Avg.mean().round(2)"
   ]
  },
  {
   "cell_type": "code",
   "execution_count": 7,
   "metadata": {},
   "outputs": [
    {
     "data": {
      "text/plain": [
       "Task        IsPointer\n",
       "Apple       False        1.00\n",
       "            True         0.68\n",
       "Validation  False        1.02\n",
       "            True         0.62\n",
       "Name: Avg, dtype: float64"
      ]
     },
     "execution_count": 7,
     "metadata": {},
     "output_type": "execute_result"
    }
   ],
   "source": [
    "df.groupby([\"Task\", \"IsPointer\"]).Avg.std().round(2)"
   ]
  },
  {
   "cell_type": "code",
   "execution_count": 8,
   "metadata": {},
   "outputs": [
    {
     "data": {
      "text/plain": [
       "<matplotlib.axes._subplots.AxesSubplot at 0x7fa16fed0940>"
      ]
     },
     "execution_count": 8,
     "metadata": {},
     "output_type": "execute_result"
    },
    {
     "data": {
      "image/png": "[encoded data removed]",
      "text/plain": [
       "<Figure size 432x288 with 1 Axes>"
      ]
     },
     "metadata": {
      "needs_background": "light"
     },
     "output_type": "display_data"
    }
   ],
   "source": [
    "df.boxplot(\"Avg\", by=[ \"Task\", \"Correction\"])"
   ]
  },
  {
   "cell_type": "code",
   "execution_count": 9,
   "metadata": {},
   "outputs": [
    {
     "data": {
      "text/plain": [
       "'./out/R_Presence.csv'"
      ]
     },
     "execution_count": 9,
     "metadata": {},
     "output_type": "execute_result"
    }
   ],
   "source": [
    "dfR = df[[\"PId\", \"Correction\", \"Avg\", \"Task\", \"IsPointer\"]]\n",
    "f = OUTPUT_PATH + \"R_Presence.csv\"\n",
    "dfR.to_csv(f, index=None)\n",
    "f"
   ]
  },
  {
   "cell_type": "code",
   "execution_count": 10,
   "metadata": {},
   "outputs": [
    {
     "data": {
      "text/html": [
       "<div>\n",
       "<style scoped>\n",
       "    .dataframe tbody tr th:only-of-type {\n",
       "        vertical-align: middle;\n",
       "    }\n",
       "\n",
       "    .dataframe tbody tr th {\n",
       "        vertical-align: top;\n",
       "    }\n",
       "\n",
       "    .dataframe thead th {\n",
       "        text-align: right;\n",
       "    }\n",
       "</style>\n",
       "<table border=\"1\" class=\"dataframe\">\n",
       "  <thead>\n",
       "    <tr style=\"text-align: right;\">\n",
       "      <th></th>\n",
       "      <th>count</th>\n",
       "      <th>mean</th>\n",
       "      <th>std</th>\n",
       "      <th>min</th>\n",
       "      <th>25%</th>\n",
       "      <th>50%</th>\n",
       "      <th>75%</th>\n",
       "      <th>max</th>\n",
       "    </tr>\n",
       "    <tr>\n",
       "      <th>Correction</th>\n",
       "      <th></th>\n",
       "      <th></th>\n",
       "      <th></th>\n",
       "      <th></th>\n",
       "      <th></th>\n",
       "      <th></th>\n",
       "      <th></th>\n",
       "      <th></th>\n",
       "    </tr>\n",
       "  </thead>\n",
       "  <tbody>\n",
       "    <tr>\n",
       "      <th>False</th>\n",
       "      <td>24.0</td>\n",
       "      <td>-0.33</td>\n",
       "      <td>2.06</td>\n",
       "      <td>-3.0</td>\n",
       "      <td>-3.0</td>\n",
       "      <td>0.0</td>\n",
       "      <td>1.00</td>\n",
       "      <td>3.0</td>\n",
       "    </tr>\n",
       "    <tr>\n",
       "      <th>True</th>\n",
       "      <td>24.0</td>\n",
       "      <td>-0.17</td>\n",
       "      <td>2.14</td>\n",
       "      <td>-3.0</td>\n",
       "      <td>-3.0</td>\n",
       "      <td>0.0</td>\n",
       "      <td>1.25</td>\n",
       "      <td>3.0</td>\n",
       "    </tr>\n",
       "  </tbody>\n",
       "</table>\n",
       "</div>"
      ],
      "text/plain": [
       "            count  mean   std  min  25%  50%   75%  max\n",
       "Correction                                             \n",
       "False        24.0 -0.33  2.06 -3.0 -3.0  0.0  1.00  3.0\n",
       "True         24.0 -0.17  2.14 -3.0 -3.0  0.0  1.25  3.0"
      ]
     },
     "execution_count": 10,
     "metadata": {},
     "output_type": "execute_result"
    }
   ],
   "source": [
    "dfR = df[df.Task == \"Apple\"].groupby([\"PId\", \"Correction\", \"IsPointer\"]).mean().reset_index()[[\"PId\", \"Correction\", \"Q16\", \"IsPointer\"]]\n",
    "f = OUTPUT_PATH + \"R_Q16.csv\"\n",
    "dfR.to_csv(f, index=None)\n",
    "f\n",
    "dfR.groupby(\"Correction\").Q16.describe().round(2)"
   ]
  },
  {
   "cell_type": "code",
   "execution_count": 11,
   "metadata": {},
   "outputs": [
    {
     "data": {
      "text/html": [
       "<div>\n",
       "<style scoped>\n",
       "    .dataframe tbody tr th:only-of-type {\n",
       "        vertical-align: middle;\n",
       "    }\n",
       "\n",
       "    .dataframe tbody tr th {\n",
       "        vertical-align: top;\n",
       "    }\n",
       "\n",
       "    .dataframe thead th {\n",
       "        text-align: right;\n",
       "    }\n",
       "</style>\n",
       "<table border=\"1\" class=\"dataframe\">\n",
       "  <thead>\n",
       "    <tr style=\"text-align: right;\">\n",
       "      <th></th>\n",
       "      <th>count</th>\n",
       "      <th>mean</th>\n",
       "      <th>std</th>\n",
       "      <th>min</th>\n",
       "      <th>25%</th>\n",
       "      <th>50%</th>\n",
       "      <th>75%</th>\n",
       "      <th>max</th>\n",
       "    </tr>\n",
       "    <tr>\n",
       "      <th>Correction</th>\n",
       "      <th></th>\n",
       "      <th></th>\n",
       "      <th></th>\n",
       "      <th></th>\n",
       "      <th></th>\n",
       "      <th></th>\n",
       "      <th></th>\n",
       "      <th></th>\n",
       "    </tr>\n",
       "  </thead>\n",
       "  <tbody>\n",
       "    <tr>\n",
       "      <th>False</th>\n",
       "      <td>24.0</td>\n",
       "      <td>0.58</td>\n",
       "      <td>1.47</td>\n",
       "      <td>-3.0</td>\n",
       "      <td>0.0</td>\n",
       "      <td>0.5</td>\n",
       "      <td>2.0</td>\n",
       "      <td>3.0</td>\n",
       "    </tr>\n",
       "    <tr>\n",
       "      <th>True</th>\n",
       "      <td>24.0</td>\n",
       "      <td>0.50</td>\n",
       "      <td>1.29</td>\n",
       "      <td>-3.0</td>\n",
       "      <td>0.0</td>\n",
       "      <td>0.5</td>\n",
       "      <td>1.0</td>\n",
       "      <td>3.0</td>\n",
       "    </tr>\n",
       "  </tbody>\n",
       "</table>\n",
       "</div>"
      ],
      "text/plain": [
       "            count  mean   std  min  25%  50%  75%  max\n",
       "Correction                                            \n",
       "False        24.0  0.58  1.47 -3.0  0.0  0.5  2.0  3.0\n",
       "True         24.0  0.50  1.29 -3.0  0.0  0.5  1.0  3.0"
      ]
     },
     "execution_count": 11,
     "metadata": {},
     "output_type": "execute_result"
    }
   ],
   "source": [
    "dfR = df[df.Task == \"Apple\"].groupby([\"PId\", \"Correction\", \"IsPointer\"]).mean().reset_index()[[\"PId\", \"Correction\", \"Q17\", \"IsPointer\"]]\n",
    "f = OUTPUT_PATH + \"R_Q17.csv\"\n",
    "dfR.to_csv(f, index=None)\n",
    "f\n",
    "dfR.groupby(\"Correction\").Q17.describe().round(2)"
   ]
  },
  {
   "cell_type": "code",
   "execution_count": 12,
   "metadata": {},
   "outputs": [
    {
     "data": {
      "text/html": [
       "<div>\n",
       "<style scoped>\n",
       "    .dataframe tbody tr th:only-of-type {\n",
       "        vertical-align: middle;\n",
       "    }\n",
       "\n",
       "    .dataframe tbody tr th {\n",
       "        vertical-align: top;\n",
       "    }\n",
       "\n",
       "    .dataframe thead th {\n",
       "        text-align: right;\n",
       "    }\n",
       "</style>\n",
       "<table border=\"1\" class=\"dataframe\">\n",
       "  <thead>\n",
       "    <tr style=\"text-align: right;\">\n",
       "      <th></th>\n",
       "      <th>count</th>\n",
       "      <th>mean</th>\n",
       "      <th>std</th>\n",
       "      <th>min</th>\n",
       "      <th>25%</th>\n",
       "      <th>50%</th>\n",
       "      <th>75%</th>\n",
       "      <th>max</th>\n",
       "    </tr>\n",
       "    <tr>\n",
       "      <th>Correction</th>\n",
       "      <th></th>\n",
       "      <th></th>\n",
       "      <th></th>\n",
       "      <th></th>\n",
       "      <th></th>\n",
       "      <th></th>\n",
       "      <th></th>\n",
       "      <th></th>\n",
       "    </tr>\n",
       "  </thead>\n",
       "  <tbody>\n",
       "    <tr>\n",
       "      <th>False</th>\n",
       "      <td>24.0</td>\n",
       "      <td>-0.33</td>\n",
       "      <td>1.43</td>\n",
       "      <td>-3.0</td>\n",
       "      <td>-1.00</td>\n",
       "      <td>0.0</td>\n",
       "      <td>0.00</td>\n",
       "      <td>3.0</td>\n",
       "    </tr>\n",
       "    <tr>\n",
       "      <th>True</th>\n",
       "      <td>24.0</td>\n",
       "      <td>-0.71</td>\n",
       "      <td>1.71</td>\n",
       "      <td>-3.0</td>\n",
       "      <td>-2.25</td>\n",
       "      <td>0.0</td>\n",
       "      <td>0.25</td>\n",
       "      <td>3.0</td>\n",
       "    </tr>\n",
       "  </tbody>\n",
       "</table>\n",
       "</div>"
      ],
      "text/plain": [
       "            count  mean   std  min   25%  50%   75%  max\n",
       "Correction                                              \n",
       "False        24.0 -0.33  1.43 -3.0 -1.00  0.0  0.00  3.0\n",
       "True         24.0 -0.71  1.71 -3.0 -2.25  0.0  0.25  3.0"
      ]
     },
     "execution_count": 12,
     "metadata": {},
     "output_type": "execute_result"
    }
   ],
   "source": [
    "dfR = df[df.Task == \"Apple\"].groupby([\"PId\", \"Correction\", \"IsPointer\"]).mean().reset_index()[[\"PId\", \"Correction\", \"Q18\", \"IsPointer\"]]\n",
    "f = OUTPUT_PATH + \"R_Q18.csv\"\n",
    "dfR.to_csv(f, index=None)\n",
    "f\n",
    "dfR.groupby(\"Correction\").Q18.describe().round(2)"
   ]
  }
 ],
 "metadata": {
  "kernelspec": {
   "display_name": "Python 3",
   "language": "python",
   "name": "python3"
  },
  "language_info": {
   "codemirror_mode": {
    "name": "ipython",
    "version": 3
   },
   "file_extension": ".py",
   "mimetype": "text/x-python",
   "name": "python",
   "nbconvert_exporter": "python",
   "pygments_lexer": "ipython3",
   "version": "3.6.9"
  }
 },
 "nbformat": 4,
 "nbformat_minor": 2
}
