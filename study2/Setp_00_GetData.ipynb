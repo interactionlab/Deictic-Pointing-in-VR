{
 "cells": [
  {
   "cell_type": "code",
   "execution_count": 1,
   "metadata": {},
   "outputs": [],
   "source": [
    "import os\n",
    "from zipfile import ZipFile\n",
    "import wget"
   ]
  },
  {
   "cell_type": "code",
   "execution_count": 2,
   "metadata": {},
   "outputs": [],
   "source": [
    "if not(os.path.isdir(\"./zip/\")):\n",
    "    os.mkdir(\"zip\")\n",
    "if not(os.path.isdir(\"./data/\")):\n",
    "    os.mkdir(\"data\")\n",
    "if not(os.path.isdir(\"./out/\")):\n",
    "    os.mkdir(\"out\")\n",
    "if not(os.path.isdir(\"./figures/\")):\n",
    "    os.mkdir(\"figures\")"
   ]
  },
  {
   "cell_type": "code",
   "execution_count": 3,
   "metadata": {},
   "outputs": [],
   "source": [
    "urls = [\"https://www.dropbox.com/s/b3ydkl7eaxc8s3q/study2_pair_1.zip?dl=1\",\n",
    "       \"https://www.dropbox.com/s/402eyivijlclrt4/study2_pair_2.zip?dl=1\",\n",
    "       \"https://www.dropbox.com/s/1dtdkh3t2ep5f9g/study2_pair_3.zip?dl=1\",\n",
    "       \"https://www.dropbox.com/s/j2xwehjgsdo7v9u/study2_pair_4.zip?dl=1\",\n",
    "       \"https://www.dropbox.com/s/5efp571vvjhxd32/study2_pair_5.zip?dl=1\",\n",
    "       \"https://www.dropbox.com/s/vdhamjmwoslwjye/study2_pair_6.zip?dl=1\",\n",
    "       \"https://www.dropbox.com/s/7wt5owx2q4auyup/study2_pair_7.zip?dl=1\",\n",
    "       \"https://www.dropbox.com/s/96omzsq2m1ydb0t/study2_pair_8.zip?dl=1\",\n",
    "       \"https://www.dropbox.com/s/nghj4jyqc565kzt/study2_pair_9.zip?dl=1\",\n",
    "       \"https://www.dropbox.com/s/9egdaew337e1qvu/study2_pair_10.zip?dl=1\",\n",
    "       \"https://www.dropbox.com/s/07ekqfkhddw9x62/study2_pair_11.zip?dl=1\",\n",
    "       \"https://www.dropbox.com/s/z93l2pt29hsm3j5/study2_pair_12.zip?dl=1\"]"
   ]
  },
  {
   "cell_type": "code",
   "execution_count": 4,
   "metadata": {},
   "outputs": [
    {
     "name": "stdout",
     "output_type": "stream",
     "text": [
      "https://www.dropbox.com/s/b3ydkl7eaxc8s3q/study2_pair_1.zip?dl=1 ./zip/study2_pair_1.zip\n",
      "https://www.dropbox.com/s/402eyivijlclrt4/study2_pair_2.zip?dl=1 ./zip/study2_pair_2.zip\n",
      "https://www.dropbox.com/s/1dtdkh3t2ep5f9g/study2_pair_3.zip?dl=1 ./zip/study2_pair_3.zip\n",
      "https://www.dropbox.com/s/j2xwehjgsdo7v9u/study2_pair_4.zip?dl=1 ./zip/study2_pair_4.zip\n",
      "https://www.dropbox.com/s/5efp571vvjhxd32/study2_pair_5.zip?dl=1 ./zip/study2_pair_5.zip\n",
      "https://www.dropbox.com/s/vdhamjmwoslwjye/study2_pair_6.zip?dl=1 ./zip/study2_pair_6.zip\n",
      "https://www.dropbox.com/s/7wt5owx2q4auyup/study2_pair_7.zip?dl=1 ./zip/study2_pair_7.zip\n",
      "https://www.dropbox.com/s/96omzsq2m1ydb0t/study2_pair_8.zip?dl=1 ./zip/study2_pair_8.zip\n",
      "https://www.dropbox.com/s/nghj4jyqc565kzt/study2_pair_9.zip?dl=1 ./zip/study2_pair_9.zip\n",
      "https://www.dropbox.com/s/9egdaew337e1qvu/study2_pair_10.zip?dl=1 ./zip/study2_pair_10.zip\n",
      "https://www.dropbox.com/s/07ekqfkhddw9x62/study2_pair_11.zip?dl=1 ./zip/study2_pair_11.zip\n",
      "https://www.dropbox.com/s/z93l2pt29hsm3j5/study2_pair_12.zip?dl=1 ./zip/study2_pair_12.zip\n",
      "CPU times: user 2.26 ms, sys: 4.28 ms, total: 6.54 ms\n",
      "Wall time: 4.98 ms\n"
     ]
    }
   ],
   "source": [
    "%%time\n",
    "for url in urls:\n",
    "    file = \"./zip/%s\" % url.split(\"/\")[-1].replace(\"?dl=1\", \"\")\n",
    "    print(url, file)\n",
    "    if (not(os.path.isfile(file))):\n",
    "        print(\"Dowloaded %s\" % wget.download(url, out = \"./zip\"))"
   ]
  },
  {
   "cell_type": "code",
   "execution_count": 5,
   "metadata": {},
   "outputs": [
    {
     "name": "stdout",
     "output_type": "stream",
     "text": [
      "Working on ./zip/study2_pair_1.zip\n",
      "Working on ./zip/study2_pair_2.zip\n",
      "Working on ./zip/study2_pair_3.zip\n",
      "Working on ./zip/study2_pair_4.zip\n",
      "Working on ./zip/study2_pair_5.zip\n",
      "Working on ./zip/study2_pair_6.zip\n",
      "Working on ./zip/study2_pair_7.zip\n",
      "Working on ./zip/study2_pair_8.zip\n",
      "Working on ./zip/study2_pair_9.zip\n",
      "Working on ./zip/study2_pair_10.zip\n",
      "Working on ./zip/study2_pair_11.zip\n",
      "Working on ./zip/study2_pair_12.zip\n",
      "CPU times: user 14.1 s, sys: 9.51 s, total: 23.6 s\n",
      "Wall time: 1min 50s\n"
     ]
    }
   ],
   "source": [
    "%%time\n",
    "for i in range (1, 13):\n",
    "    filename = \"./zip/study2_pair_%i.zip\" % i\n",
    "    print(\"Working on %s\" % filename)\n",
    "    # Create a ZipFile Object and load sample.zip in it\n",
    "    with ZipFile(filename, 'r') as zipObj:\n",
    "       # Extract all the contents of zip file in different directory\n",
    "       zipObj.extractall()"
   ]
  },
  {
   "cell_type": "code",
   "execution_count": 4,
   "metadata": {},
   "outputs": [],
   "source": [
    "! mv ./data_v03/data_v03/* data/"
   ]
  },
  {
   "cell_type": "code",
   "execution_count": null,
   "metadata": {},
   "outputs": [],
   "source": []
  }
 ],
 "metadata": {
  "kernelspec": {
   "display_name": "Python 3",
   "language": "python",
   "name": "python3"
  },
  "language_info": {
   "codemirror_mode": {
    "name": "ipython",
    "version": 3
   },
   "file_extension": ".py",
   "mimetype": "text/x-python",
   "name": "python",
   "nbconvert_exporter": "python",
   "pygments_lexer": "ipython3",
   "version": "3.6.9"
  }
 },
 "nbformat": 4,
 "nbformat_minor": 4
}
