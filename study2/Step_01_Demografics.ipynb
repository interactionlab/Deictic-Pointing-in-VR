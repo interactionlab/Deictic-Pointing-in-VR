{
 "cells": [
  {
   "cell_type": "code",
   "execution_count": 1,
   "metadata": {},
   "outputs": [],
   "source": [
    "import pandas as pd"
   ]
  },
  {
   "cell_type": "code",
   "execution_count": 2,
   "metadata": {},
   "outputs": [],
   "source": [
    "df = pd.read_csv(\"data_Demographics.csv\")"
   ]
  },
  {
   "cell_type": "code",
   "execution_count": 3,
   "metadata": {},
   "outputs": [
    {
     "data": {
      "text/html": [
       "<div>\n",
       "<style scoped>\n",
       "    .dataframe tbody tr th:only-of-type {\n",
       "        vertical-align: middle;\n",
       "    }\n",
       "\n",
       "    .dataframe tbody tr th {\n",
       "        vertical-align: top;\n",
       "    }\n",
       "\n",
       "    .dataframe thead th {\n",
       "        text-align: right;\n",
       "    }\n",
       "</style>\n",
       "<table border=\"1\" class=\"dataframe\">\n",
       "  <thead>\n",
       "    <tr style=\"text-align: right;\">\n",
       "      <th></th>\n",
       "      <th>StudyID</th>\n",
       "      <th>ParticipantID</th>\n",
       "      <th>Age</th>\n",
       "      <th>Gender</th>\n",
       "      <th>Height</th>\n",
       "      <th>Handedness</th>\n",
       "      <th>EyeDominance</th>\n",
       "      <th>Home Country</th>\n",
       "      <th>Profession</th>\n",
       "      <th># VR</th>\n",
       "      <th>VR device</th>\n",
       "    </tr>\n",
       "  </thead>\n",
       "  <tbody>\n",
       "    <tr>\n",
       "      <th>0</th>\n",
       "      <td>1</td>\n",
       "      <td>1</td>\n",
       "      <td>25</td>\n",
       "      <td>m</td>\n",
       "      <td>194</td>\n",
       "      <td>right</td>\n",
       "      <td>right</td>\n",
       "      <td>Germany</td>\n",
       "      <td>Student, self-employed</td>\n",
       "      <td>&gt;3</td>\n",
       "      <td>Vive/Oculus/Cardboard</td>\n",
       "    </tr>\n",
       "    <tr>\n",
       "      <th>1</th>\n",
       "      <td>1</td>\n",
       "      <td>2</td>\n",
       "      <td>20</td>\n",
       "      <td>f</td>\n",
       "      <td>190</td>\n",
       "      <td>right</td>\n",
       "      <td>left</td>\n",
       "      <td>Germany</td>\n",
       "      <td>Student</td>\n",
       "      <td>&gt;3</td>\n",
       "      <td>no</td>\n",
       "    </tr>\n",
       "    <tr>\n",
       "      <th>2</th>\n",
       "      <td>2</td>\n",
       "      <td>3</td>\n",
       "      <td>26</td>\n",
       "      <td>m</td>\n",
       "      <td>175</td>\n",
       "      <td>right</td>\n",
       "      <td>right</td>\n",
       "      <td>India</td>\n",
       "      <td>Student</td>\n",
       "      <td>1-2</td>\n",
       "      <td>no</td>\n",
       "    </tr>\n",
       "    <tr>\n",
       "      <th>3</th>\n",
       "      <td>2</td>\n",
       "      <td>4</td>\n",
       "      <td>25</td>\n",
       "      <td>m</td>\n",
       "      <td>174</td>\n",
       "      <td>right</td>\n",
       "      <td>left</td>\n",
       "      <td>Germany</td>\n",
       "      <td>Student</td>\n",
       "      <td>1-2</td>\n",
       "      <td>no</td>\n",
       "    </tr>\n",
       "    <tr>\n",
       "      <th>4</th>\n",
       "      <td>3</td>\n",
       "      <td>5</td>\n",
       "      <td>35</td>\n",
       "      <td>m</td>\n",
       "      <td>178</td>\n",
       "      <td>right</td>\n",
       "      <td>right</td>\n",
       "      <td>Argentina</td>\n",
       "      <td>PhD Student</td>\n",
       "      <td>no</td>\n",
       "      <td>NaN</td>\n",
       "    </tr>\n",
       "  </tbody>\n",
       "</table>\n",
       "</div>"
      ],
      "text/plain": [
       "   StudyID  ParticipantID  Age Gender  Height Handedness EyeDominance  \\\n",
       "0        1              1   25      m     194      right        right   \n",
       "1        1              2   20      f     190      right         left   \n",
       "2        2              3   26      m     175      right        right   \n",
       "3        2              4   25      m     174      right         left   \n",
       "4        3              5   35      m     178      right        right   \n",
       "\n",
       "  Home Country              Profession # VR              VR device  \n",
       "0      Germany  Student, self-employed   >3  Vive/Oculus/Cardboard  \n",
       "1      Germany                 Student   >3                     no  \n",
       "2        India                 Student  1-2                     no  \n",
       "3      Germany                 Student  1-2                     no  \n",
       "4    Argentina             PhD Student   no                    NaN  "
      ]
     },
     "execution_count": 3,
     "metadata": {},
     "output_type": "execute_result"
    }
   ],
   "source": [
    "df.head()"
   ]
  },
  {
   "cell_type": "code",
   "execution_count": 4,
   "metadata": {},
   "outputs": [
    {
     "data": {
      "text/plain": [
       "count    24.0\n",
       "mean     23.9\n",
       "std       4.1\n",
       "min      17.0\n",
       "25%      21.8\n",
       "50%      22.5\n",
       "75%      25.2\n",
       "max      35.0\n",
       "Name: Age, dtype: float64"
      ]
     },
     "execution_count": 4,
     "metadata": {},
     "output_type": "execute_result"
    }
   ],
   "source": [
    "df.Age.describe().round(1)"
   ]
  },
  {
   "cell_type": "code",
   "execution_count": 5,
   "metadata": {},
   "outputs": [
    {
     "data": {
      "text/plain": [
       "m    19\n",
       "f     5\n",
       "Name: Gender, dtype: int64"
      ]
     },
     "execution_count": 5,
     "metadata": {},
     "output_type": "execute_result"
    }
   ],
   "source": [
    "df.Gender.value_counts()"
   ]
  },
  {
   "cell_type": "code",
   "execution_count": 6,
   "metadata": {},
   "outputs": [
    {
     "data": {
      "text/plain": [
       "Germany      16\n",
       "India         2\n",
       "Egypt         2\n",
       "Argentina     1\n",
       "Kosovo        1\n",
       "Spain         1\n",
       "France        1\n",
       "Name: Home Country, dtype: int64"
      ]
     },
     "execution_count": 6,
     "metadata": {},
     "output_type": "execute_result"
    }
   ],
   "source": [
    "df['Home Country'].value_counts()"
   ]
  },
  {
   "cell_type": "code",
   "execution_count": 7,
   "metadata": {},
   "outputs": [
    {
     "data": {
      "text/plain": [
       "right    13\n",
       "left      9\n",
       "both      2\n",
       "Name: EyeDominance, dtype: int64"
      ]
     },
     "execution_count": 7,
     "metadata": {},
     "output_type": "execute_result"
    }
   ],
   "source": [
    "df.EyeDominance.value_counts()"
   ]
  },
  {
   "cell_type": "code",
   "execution_count": 8,
   "metadata": {},
   "outputs": [
    {
     "data": {
      "text/plain": [
       "Student                   21\n",
       "Student, self-employed     1\n",
       "Medieninformatin           1\n",
       "PhD Student                1\n",
       "Name: Profession, dtype: int64"
      ]
     },
     "execution_count": 8,
     "metadata": {},
     "output_type": "execute_result"
    }
   ],
   "source": [
    "df.Profession.value_counts()"
   ]
  },
  {
   "cell_type": "code",
   "execution_count": 9,
   "metadata": {},
   "outputs": [
    {
     "data": {
      "text/plain": [
       "no                       21\n",
       "GearVR                    1\n",
       "Vive/Oculus/Cardboard     1\n",
       "Name: VR device, dtype: int64"
      ]
     },
     "execution_count": 9,
     "metadata": {},
     "output_type": "execute_result"
    }
   ],
   "source": [
    "df['VR device'].value_counts()"
   ]
  }
 ],
 "metadata": {
  "kernelspec": {
   "display_name": "Python 3",
   "language": "python",
   "name": "python3"
  },
  "language_info": {
   "codemirror_mode": {
    "name": "ipython",
    "version": 3
   },
   "file_extension": ".py",
   "mimetype": "text/x-python",
   "name": "python",
   "nbconvert_exporter": "python",
   "pygments_lexer": "ipython3",
   "version": "3.6.9"
  }
 },
 "nbformat": 4,
 "nbformat_minor": 2
}
