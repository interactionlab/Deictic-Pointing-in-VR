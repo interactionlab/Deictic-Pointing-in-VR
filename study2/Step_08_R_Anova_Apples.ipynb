{
 "cells": [
  {
   "cell_type": "code",
   "execution_count": 2,
   "metadata": {},
   "outputs": [
    {
     "name": "stderr",
     "output_type": "stream",
     "text": [
      "Registered S3 methods overwritten by 'ggplot2':\n",
      "  method         from \n",
      "  [.quosures     rlang\n",
      "  c.quosures     rlang\n",
      "  print.quosures rlang\n",
      "Registered S3 methods overwritten by 'lme4':\n",
      "  method                          from\n",
      "  cooks.distance.influence.merMod car \n",
      "  influence.merMod                car \n",
      "  dfbeta.influence.merMod         car \n",
      "  dfbetas.influence.merMod        car \n"
     ]
    }
   ],
   "source": [
    "library(ez)"
   ]
  },
  {
   "cell_type": "code",
   "execution_count": 3,
   "metadata": {},
   "outputs": [
    {
     "name": "stderr",
     "output_type": "stream",
     "text": [
      "Warning message:\n",
      "“Collapsing data to cell means. *IF* the requested effects are a subset of the full design, you must use the \"within_full\" argument, else results may be inaccurate.”"
     ]
    },
    {
     "data": {
      "text/html": [
       "<dl>\n",
       "\t<dt>$ANOVA</dt>\n",
       "\t\t<dd><table>\n",
       "<thead><tr><th></th><th scope=col>Effect</th><th scope=col>DFn</th><th scope=col>DFd</th><th scope=col>F</th><th scope=col>p</th><th scope=col>p&lt;.05</th><th scope=col>ges</th></tr></thead>\n",
       "<tbody>\n",
       "\t<tr><th scope=row>2</th><td>Correction         </td><td>1                  </td><td>11                 </td><td>0.14666667         </td><td>0.7090387          </td><td>                   </td><td>0.0054093040       </td></tr>\n",
       "\t<tr><th scope=row>3</th><td>Distance           </td><td>2                  </td><td>22                 </td><td>2.27536232         </td><td>0.1264181          </td><td>                   </td><td>0.0222631877       </td></tr>\n",
       "\t<tr><th scope=row>4</th><td>Correction:Distance</td><td>2                  </td><td>22                 </td><td>0.01105528         </td><td>0.9890111          </td><td>                   </td><td>0.0001450116       </td></tr>\n",
       "</tbody>\n",
       "</table>\n",
       "</dd>\n",
       "\t<dt>$`Mauchly's Test for Sphericity`</dt>\n",
       "\t\t<dd><table>\n",
       "<thead><tr><th></th><th scope=col>Effect</th><th scope=col>W</th><th scope=col>p</th><th scope=col>p&lt;.05</th></tr></thead>\n",
       "<tbody>\n",
       "\t<tr><th scope=row>3</th><td>Distance           </td><td>0.9767099          </td><td>0.8888488          </td><td>                   </td></tr>\n",
       "\t<tr><th scope=row>4</th><td>Correction:Distance</td><td>0.6951824          </td><td>0.1623656          </td><td>                   </td></tr>\n",
       "</tbody>\n",
       "</table>\n",
       "</dd>\n",
       "\t<dt>$`Sphericity Corrections`</dt>\n",
       "\t\t<dd><table>\n",
       "<thead><tr><th></th><th scope=col>Effect</th><th scope=col>GGe</th><th scope=col>p[GG]</th><th scope=col>p[GG]&lt;.05</th><th scope=col>HFe</th><th scope=col>p[HF]</th><th scope=col>p[HF]&lt;.05</th></tr></thead>\n",
       "<tbody>\n",
       "\t<tr><th scope=row>3</th><td>Distance           </td><td>0.9772400          </td><td>0.1278728          </td><td>                   </td><td>1.1858776          </td><td>0.1264181          </td><td>                   </td></tr>\n",
       "\t<tr><th scope=row>4</th><td>Correction:Distance</td><td>0.7663907          </td><td>0.9724195          </td><td>                   </td><td>0.8657968          </td><td>0.9814103          </td><td>                   </td></tr>\n",
       "</tbody>\n",
       "</table>\n",
       "</dd>\n",
       "</dl>\n"
      ],
      "text/latex": [
       "\\begin{description}\n",
       "\\item[\\$ANOVA] \\begin{tabular}{r|lllllll}\n",
       "  & Effect & DFn & DFd & F & p & p<.05 & ges\\\\\n",
       "\\hline\n",
       "\t2 & Correction          & 1                   & 11                  & 0.14666667          & 0.7090387           &                     & 0.0054093040       \\\\\n",
       "\t3 & Distance            & 2                   & 22                  & 2.27536232          & 0.1264181           &                     & 0.0222631877       \\\\\n",
       "\t4 & Correction:Distance & 2                   & 22                  & 0.01105528          & 0.9890111           &                     & 0.0001450116       \\\\\n",
       "\\end{tabular}\n",
       "\n",
       "\\item[\\$`Mauchly's Test for Sphericity`] \\begin{tabular}{r|llll}\n",
       "  & Effect & W & p & p<.05\\\\\n",
       "\\hline\n",
       "\t3 & Distance            & 0.9767099           & 0.8888488           &                    \\\\\n",
       "\t4 & Correction:Distance & 0.6951824           & 0.1623656           &                    \\\\\n",
       "\\end{tabular}\n",
       "\n",
       "\\item[\\$`Sphericity Corrections`] \\begin{tabular}{r|lllllll}\n",
       "  & Effect & GGe & p{[}GG{]} & p{[}GG{]}<.05 & HFe & p{[}HF{]} & p{[}HF{]}<.05\\\\\n",
       "\\hline\n",
       "\t3 & Distance            & 0.9772400           & 0.1278728           &                     & 1.1858776           & 0.1264181           &                    \\\\\n",
       "\t4 & Correction:Distance & 0.7663907           & 0.9724195           &                     & 0.8657968           & 0.9814103           &                    \\\\\n",
       "\\end{tabular}\n",
       "\n",
       "\\end{description}\n"
      ],
      "text/markdown": [
       "$ANOVA\n",
       ":   \n",
       "| <!--/--> | Effect | DFn | DFd | F | p | p<.05 | ges | \n",
       "|---|---|---|\n",
       "| 2 | Correction          | 1                   | 11                  | 0.14666667          | 0.7090387           |                     | 0.0054093040        | \n",
       "| 3 | Distance            | 2                   | 22                  | 2.27536232          | 0.1264181           |                     | 0.0222631877        | \n",
       "| 4 | Correction:Distance | 2                   | 22                  | 0.01105528          | 0.9890111           |                     | 0.0001450116        | \n",
       "\n",
       "\n",
       "\n",
       "$`Mauchly's Test for Sphericity`\n",
       ":   \n",
       "| <!--/--> | Effect | W | p | p<.05 | \n",
       "|---|---|\n",
       "| 3 | Distance            | 0.9767099           | 0.8888488           |                     | \n",
       "| 4 | Correction:Distance | 0.6951824           | 0.1623656           |                     | \n",
       "\n",
       "\n",
       "\n",
       "$`Sphericity Corrections`\n",
       ":   \n",
       "| <!--/--> | Effect | GGe | p[GG] | p[GG]<.05 | HFe | p[HF] | p[HF]<.05 | \n",
       "|---|---|\n",
       "| 3 | Distance            | 0.9772400           | 0.1278728           |                     | 1.1858776           | 0.1264181           |                     | \n",
       "| 4 | Correction:Distance | 0.7663907           | 0.9724195           |                     | 0.8657968           | 0.9814103           |                     | \n",
       "\n",
       "\n",
       "\n",
       "\n",
       "\n"
      ],
      "text/plain": [
       "$ANOVA\n",
       "               Effect DFn DFd          F         p p<.05          ges\n",
       "2          Correction   1  11 0.14666667 0.7090387       0.0054093040\n",
       "3            Distance   2  22 2.27536232 0.1264181       0.0222631877\n",
       "4 Correction:Distance   2  22 0.01105528 0.9890111       0.0001450116\n",
       "\n",
       "$`Mauchly's Test for Sphericity`\n",
       "               Effect         W         p p<.05\n",
       "3            Distance 0.9767099 0.8888488      \n",
       "4 Correction:Distance 0.6951824 0.1623656      \n",
       "\n",
       "$`Sphericity Corrections`\n",
       "               Effect       GGe     p[GG] p[GG]<.05       HFe     p[HF]\n",
       "3            Distance 0.9772400 0.1278728           1.1858776 0.1264181\n",
       "4 Correction:Distance 0.7663907 0.9724195           0.8657968 0.9814103\n",
       "  p[HF]<.05\n",
       "3          \n",
       "4          \n"
      ]
     },
     "metadata": {},
     "output_type": "display_data"
    }
   ],
   "source": [
    "df = read.csv(\"./out/R_AppleCount.csv\")\n",
    "df$PId <- factor(df$PId)\n",
    "df$Correction <- factor(df$Correction)\n",
    "df$Distance <- factor(df$Distance)\n",
    "\n",
    "mod <- ezANOVA (data = df,\n",
    "        dv = CorrectApple,\n",
    "        within = .(Correction, Distance),\n",
    "        wid = .(PId),\n",
    "        type = 3)\n",
    "mod"
   ]
  }
 ],
 "metadata": {
  "kernelspec": {
   "display_name": "R",
   "language": "R",
   "name": "ir"
  },
  "language_info": {
   "codemirror_mode": "r",
   "file_extension": ".r",
   "mimetype": "text/x-r-source",
   "name": "R",
   "pygments_lexer": "r",
   "version": "3.6.0"
  }
 },
 "nbformat": 4,
 "nbformat_minor": 2
}
