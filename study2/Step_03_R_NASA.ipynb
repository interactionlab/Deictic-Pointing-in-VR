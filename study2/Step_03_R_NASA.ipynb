{
 "cells": [
  {
   "cell_type": "code",
   "execution_count": 1,
   "metadata": {},
   "outputs": [
    {
     "name": "stderr",
     "output_type": "stream",
     "text": [
      "Registered S3 methods overwritten by 'ggplot2':\n",
      "  method         from \n",
      "  [.quosures     rlang\n",
      "  c.quosures     rlang\n",
      "  print.quosures rlang\n",
      "Registered S3 methods overwritten by 'lme4':\n",
      "  method                          from\n",
      "  cooks.distance.influence.merMod car \n",
      "  influence.merMod                car \n",
      "  dfbeta.influence.merMod         car \n",
      "  dfbetas.influence.merMod        car \n"
     ]
    }
   ],
   "source": [
    "library(ez)"
   ]
  },
  {
   "cell_type": "code",
   "execution_count": 13,
   "metadata": {},
   "outputs": [
    {
     "data": {
      "text/html": [
       "<strong>$ANOVA</strong> = <table>\n",
       "<thead><tr><th></th><th scope=col>Effect</th><th scope=col>DFn</th><th scope=col>DFd</th><th scope=col>F</th><th scope=col>p</th><th scope=col>p&lt;.05</th><th scope=col>ges</th></tr></thead>\n",
       "<tbody>\n",
       "\t<tr><th scope=row>2</th><td>IsPointer      </td><td>1              </td><td>22             </td><td>0.2308207      </td><td>0.63565882     </td><td>               </td><td>0.009814529    </td></tr>\n",
       "\t<tr><th scope=row>3</th><td>Round          </td><td>1              </td><td>22             </td><td>1.5407361      </td><td>0.22758088     </td><td>               </td><td>0.003856867    </td></tr>\n",
       "\t<tr><th scope=row>4</th><td>IsPointer:Round</td><td>1              </td><td>22             </td><td>3.7816512      </td><td>0.06471178     </td><td>               </td><td>0.009413660    </td></tr>\n",
       "</tbody>\n",
       "</table>\n"
      ],
      "text/latex": [
       "\\textbf{\\$ANOVA} = \\begin{tabular}{r|lllllll}\n",
       "  & Effect & DFn & DFd & F & p & p<.05 & ges\\\\\n",
       "\\hline\n",
       "\t2 & IsPointer       & 1               & 22              & 0.2308207       & 0.63565882      &                 & 0.009814529    \\\\\n",
       "\t3 & Round           & 1               & 22              & 1.5407361       & 0.22758088      &                 & 0.003856867    \\\\\n",
       "\t4 & IsPointer:Round & 1               & 22              & 3.7816512       & 0.06471178      &                 & 0.009413660    \\\\\n",
       "\\end{tabular}\n"
      ],
      "text/markdown": [
       "**$ANOVA** = \n",
       "| <!--/--> | Effect | DFn | DFd | F | p | p<.05 | ges | \n",
       "|---|---|---|\n",
       "| 2 | IsPointer       | 1               | 22              | 0.2308207       | 0.63565882      |                 | 0.009814529     | \n",
       "| 3 | Round           | 1               | 22              | 1.5407361       | 0.22758088      |                 | 0.003856867     | \n",
       "| 4 | IsPointer:Round | 1               | 22              | 3.7816512       | 0.06471178      |                 | 0.009413660     | \n",
       "\n",
       "\n"
      ],
      "text/plain": [
       "$ANOVA\n",
       "           Effect DFn DFd         F          p p<.05         ges\n",
       "2       IsPointer   1  22 0.2308207 0.63565882       0.009814529\n",
       "3           Round   1  22 1.5407361 0.22758088       0.003856867\n",
       "4 IsPointer:Round   1  22 3.7816512 0.06471178       0.009413660\n"
      ]
     },
     "metadata": {},
     "output_type": "display_data"
    },
    {
     "data": {
      "text/html": [
       "<strong>$ANOVA</strong> = <table>\n",
       "<thead><tr><th></th><th scope=col>Effect</th><th scope=col>DFn</th><th scope=col>DFd</th><th scope=col>F</th><th scope=col>p</th><th scope=col>p&lt;.05</th><th scope=col>ges</th></tr></thead>\n",
       "<tbody>\n",
       "\t<tr><th scope=row>2</th><td>IsPointer      </td><td>1              </td><td>22             </td><td>0.26768513     </td><td>0.6100522      </td><td>               </td><td>0.010897881    </td></tr>\n",
       "\t<tr><th scope=row>3</th><td>Round          </td><td>1              </td><td>22             </td><td>0.05927662     </td><td>0.8098988      </td><td>               </td><td>0.000254494    </td></tr>\n",
       "\t<tr><th scope=row>4</th><td>IsPointer:Round</td><td>1              </td><td>22             </td><td>0.17881506     </td><td>0.6764983      </td><td>               </td><td>0.000767318    </td></tr>\n",
       "</tbody>\n",
       "</table>\n"
      ],
      "text/latex": [
       "\\textbf{\\$ANOVA} = \\begin{tabular}{r|lllllll}\n",
       "  & Effect & DFn & DFd & F & p & p<.05 & ges\\\\\n",
       "\\hline\n",
       "\t2 & IsPointer       & 1               & 22              & 0.26768513      & 0.6100522       &                 & 0.010897881    \\\\\n",
       "\t3 & Round           & 1               & 22              & 0.05927662      & 0.8098988       &                 & 0.000254494    \\\\\n",
       "\t4 & IsPointer:Round & 1               & 22              & 0.17881506      & 0.6764983       &                 & 0.000767318    \\\\\n",
       "\\end{tabular}\n"
      ],
      "text/markdown": [
       "**$ANOVA** = \n",
       "| <!--/--> | Effect | DFn | DFd | F | p | p<.05 | ges | \n",
       "|---|---|---|\n",
       "| 2 | IsPointer       | 1               | 22              | 0.26768513      | 0.6100522       |                 | 0.010897881     | \n",
       "| 3 | Round           | 1               | 22              | 0.05927662      | 0.8098988       |                 | 0.000254494     | \n",
       "| 4 | IsPointer:Round | 1               | 22              | 0.17881506      | 0.6764983       |                 | 0.000767318     | \n",
       "\n",
       "\n"
      ],
      "text/plain": [
       "$ANOVA\n",
       "           Effect DFn DFd          F         p p<.05         ges\n",
       "2       IsPointer   1  22 0.26768513 0.6100522       0.010897881\n",
       "3           Round   1  22 0.05927662 0.8098988       0.000254494\n",
       "4 IsPointer:Round   1  22 0.17881506 0.6764983       0.000767318\n"
      ]
     },
     "metadata": {},
     "output_type": "display_data"
    }
   ],
   "source": [
    "df = read.csv('./out/R_NASA.csv')\n",
    "\n",
    "#df$Round = factor(df$Round)\n",
    "#df$Task = factor(df$Task)\n",
    "\n",
    "df1 = subset(df, Round<3)\n",
    "df1$Round = factor(df1$Round)\n",
    "df1$PId = factor(df1$PId)\n",
    "df1$IsPointer = factor(df1$IsPointer)\n",
    "mod = ezANOVA (data = df1,\n",
    "        dv = Avg,\n",
    "        within = c(Round ),\n",
    "               between= c(IsPointer),\n",
    "        wid = PId,\n",
    "        type = 3)\n",
    "mod\n",
    "\n",
    "df1 = df[df$Round>2, ]\n",
    "df1$Round = factor(df1$Round)\n",
    "df1$PId = factor(df1$PId)\n",
    "df1$IsPointer = factor(df1$IsPointer)\n",
    "mod = ezANOVA (data = df1,\n",
    "        dv = Avg,\n",
    "        within = c(Round ),\n",
    "               between= c(IsPointer),\n",
    "        wid = PId,\n",
    "        type = 3)\n",
    "mod"
   ]
  }
 ],
 "metadata": {
  "kernelspec": {
   "display_name": "R",
   "language": "R",
   "name": "ir"
  },
  "language_info": {
   "codemirror_mode": "r",
   "file_extension": ".r",
   "mimetype": "text/x-r-source",
   "name": "R",
   "pygments_lexer": "r",
   "version": "3.6.0"
  }
 },
 "nbformat": 4,
 "nbformat_minor": 4
}
